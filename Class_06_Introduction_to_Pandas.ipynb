{
  "nbformat": 4,
  "nbformat_minor": 0,
  "metadata": {
    "colab": {
      "name": "Class_06_Introduction_to_Pandas.ipynb",
      "provenance": [],
      "authorship_tag": "ABX9TyOD1POOJ6fyD0WfWBITPVFW",
      "include_colab_link": true
    },
    "kernelspec": {
      "name": "python3",
      "display_name": "Python 3"
    },
    "language_info": {
      "name": "python"
    }
  },
  "cells": [
    {
      "cell_type": "markdown",
      "metadata": {
        "id": "view-in-github",
        "colab_type": "text"
      },
      "source": [
        "<a href=\"https://colab.research.google.com/github/ThiagoBalbo16/Course-Dominando-Data-Science-DDS4-FLAI/blob/main/Class_06_Introduction_to_Pandas.ipynb\" target=\"_parent\"><img src=\"https://colab.research.google.com/assets/colab-badge.svg\" alt=\"Open In Colab\"/></a>"
      ]
    },
    {
      "cell_type": "markdown",
      "metadata": {
        "id": "B5C9hRWGD5Ik"
      },
      "source": [
        "Course: Curso Dominando Data Science [FLAI] \\\\\n",
        "Description: Python for data analysis: introduction to Pandas  \\\\\n",
        "Author: FLAI  \\\\\n",
        "Adapted by :  Thiago Balbo Batista  \\\\\n",
        "Year: 2021"
      ]
    },
    {
      "cell_type": "markdown",
      "metadata": {
        "id": "exPwz-8GJvzt"
      },
      "source": [
        "## **Introduction to Pandas**"
      ]
    },
    {
      "cell_type": "markdown",
      "metadata": {
        "id": "GHSVWw1sKESZ"
      },
      "source": [
        "### Object Dictionary:"
      ]
    },
    {
      "cell_type": "code",
      "metadata": {
        "colab": {
          "base_uri": "https://localhost:8080/"
        },
        "id": "kf9Az7HdPV_K",
        "outputId": "28438475-9a23-47f3-c669-12c20941e55c"
      },
      "source": [
        "Set = {'A', 2, 'print', 'Thiago', 'A' }\n",
        "\n",
        "Set"
      ],
      "execution_count": null,
      "outputs": [
        {
          "output_type": "execute_result",
          "data": {
            "text/plain": [
              "{2, 'A', 'Thiago', 'print'}"
            ]
          },
          "metadata": {
            "tags": []
          },
          "execution_count": 121
        }
      ]
    },
    {
      "cell_type": "code",
      "metadata": {
        "colab": {
          "base_uri": "https://localhost:8080/"
        },
        "id": "fsRGhuiYP8Cu",
        "outputId": "5b7cef70-4544-459d-a97a-6a9866469425"
      },
      "source": [
        "dictionary = {'name': 'Thiago', 'age': 28, 'list': [1, 2, 3, 4, 5]}\n",
        "\n",
        "dictionary"
      ],
      "execution_count": null,
      "outputs": [
        {
          "output_type": "execute_result",
          "data": {
            "text/plain": [
              "{'age': 28, 'list': [1, 2, 3, 4, 5], 'name': 'Thiago'}"
            ]
          },
          "metadata": {
            "tags": []
          },
          "execution_count": 122
        }
      ]
    },
    {
      "cell_type": "code",
      "metadata": {
        "colab": {
          "base_uri": "https://localhost:8080/"
        },
        "id": "PW8_d1EgQ5C3",
        "outputId": "d3f8f7b6-8d3b-4928-c10a-2bbac5d85663"
      },
      "source": [
        "dictionary.values()"
      ],
      "execution_count": null,
      "outputs": [
        {
          "output_type": "execute_result",
          "data": {
            "text/plain": [
              "dict_values(['Thiago', 28, [1, 2, 3, 4, 5]])"
            ]
          },
          "metadata": {
            "tags": []
          },
          "execution_count": 123
        }
      ]
    },
    {
      "cell_type": "markdown",
      "metadata": {
        "id": "NH_N3YH8i5ea"
      },
      "source": [
        "### Example to the introduction of Pandas:\n",
        "\n",
        "\n",
        "\n"
      ]
    },
    {
      "cell_type": "code",
      "metadata": {
        "colab": {
          "base_uri": "https://localhost:8080/"
        },
        "id": "uoM-jIw_ZZFz",
        "outputId": "12246e50-e05d-44aa-b456-37c767877567"
      },
      "source": [
        "# Creating random grades:\n",
        "\n",
        "parameters = {'low' : 2, 'high' : 9, 'size' : 28}\n",
        "\n",
        "import numpy as np\n",
        "\n",
        "np.random.uniform(** parameters)"
      ],
      "execution_count": null,
      "outputs": [
        {
          "output_type": "execute_result",
          "data": {
            "text/plain": [
              "array([8.4855716 , 7.41102284, 7.42509271, 8.40334475, 5.56787682,\n",
              "       5.73938217, 2.07025164, 7.6673825 , 6.85463825, 5.49899022,\n",
              "       4.98489336, 2.78204272, 6.52358205, 4.76255068, 2.21932326,\n",
              "       3.82820853, 6.11717862, 8.05250475, 5.25733985, 6.5317068 ,\n",
              "       5.12338992, 5.38678489, 4.09907456, 3.32894609, 5.40064262,\n",
              "       7.26845806, 6.09692788, 8.31956908])"
            ]
          },
          "metadata": {
            "tags": []
          },
          "execution_count": 2
        }
      ]
    },
    {
      "cell_type": "code",
      "metadata": {
        "id": "m9h7nI7TasPE"
      },
      "source": [
        "# Transforming the array in a matrix:\n",
        "\n",
        "grades = np.random.uniform(**parameters).reshape(7,4).round(1)\n",
        "\n",
        "grades\n",
        "\n",
        "names = ['Alice', 'Bruno', 'Carla', 'David', 'Emily', 'Fabio', 'Gisele']\n",
        "columns = ['E1', 'E2', 'E3', 'E4']"
      ],
      "execution_count": null,
      "outputs": []
    },
    {
      "cell_type": "code",
      "metadata": {
        "id": "L0z8mMT85QB_"
      },
      "source": [
        "# Assigning the students names and exams:\n",
        "\n",
        "names = ['Alice', 'Bruno', 'Carla', 'David', 'Emily', 'Fabio', 'Gisele']\n",
        "\n",
        "columns = ['E1', 'E2', 'E3', 'E4']"
      ],
      "execution_count": null,
      "outputs": []
    },
    {
      "cell_type": "code",
      "metadata": {
        "colab": {
          "base_uri": "https://localhost:8080/",
          "height": 266
        },
        "id": "ncSK5nDZh8AU",
        "outputId": "3027380c-0662-4ef0-ad5e-05249d725ba2"
      },
      "source": [
        "# Creating the data.frame\n",
        "\n",
        "import pandas as pd\n",
        "\n",
        "grades = pd.DataFrame(grades, index = names, columns = columns)\n",
        "\n",
        "grades\n"
      ],
      "execution_count": null,
      "outputs": [
        {
          "output_type": "execute_result",
          "data": {
            "text/html": [
              "<div>\n",
              "<style scoped>\n",
              "    .dataframe tbody tr th:only-of-type {\n",
              "        vertical-align: middle;\n",
              "    }\n",
              "\n",
              "    .dataframe tbody tr th {\n",
              "        vertical-align: top;\n",
              "    }\n",
              "\n",
              "    .dataframe thead th {\n",
              "        text-align: right;\n",
              "    }\n",
              "</style>\n",
              "<table border=\"1\" class=\"dataframe\">\n",
              "  <thead>\n",
              "    <tr style=\"text-align: right;\">\n",
              "      <th></th>\n",
              "      <th>E1</th>\n",
              "      <th>E2</th>\n",
              "      <th>E3</th>\n",
              "      <th>E4</th>\n",
              "    </tr>\n",
              "  </thead>\n",
              "  <tbody>\n",
              "    <tr>\n",
              "      <th>Alice</th>\n",
              "      <td>5.1</td>\n",
              "      <td>7.5</td>\n",
              "      <td>7.5</td>\n",
              "      <td>2.0</td>\n",
              "    </tr>\n",
              "    <tr>\n",
              "      <th>Bruno</th>\n",
              "      <td>4.3</td>\n",
              "      <td>4.7</td>\n",
              "      <td>2.3</td>\n",
              "      <td>2.6</td>\n",
              "    </tr>\n",
              "    <tr>\n",
              "      <th>Carla</th>\n",
              "      <td>7.2</td>\n",
              "      <td>4.9</td>\n",
              "      <td>5.5</td>\n",
              "      <td>5.4</td>\n",
              "    </tr>\n",
              "    <tr>\n",
              "      <th>David</th>\n",
              "      <td>4.0</td>\n",
              "      <td>8.3</td>\n",
              "      <td>7.0</td>\n",
              "      <td>7.5</td>\n",
              "    </tr>\n",
              "    <tr>\n",
              "      <th>Emily</th>\n",
              "      <td>3.6</td>\n",
              "      <td>4.6</td>\n",
              "      <td>5.5</td>\n",
              "      <td>3.1</td>\n",
              "    </tr>\n",
              "    <tr>\n",
              "      <th>Fabio</th>\n",
              "      <td>3.2</td>\n",
              "      <td>2.9</td>\n",
              "      <td>7.2</td>\n",
              "      <td>7.9</td>\n",
              "    </tr>\n",
              "    <tr>\n",
              "      <th>Gisele</th>\n",
              "      <td>8.6</td>\n",
              "      <td>4.9</td>\n",
              "      <td>6.2</td>\n",
              "      <td>8.7</td>\n",
              "    </tr>\n",
              "  </tbody>\n",
              "</table>\n",
              "</div>"
            ],
            "text/plain": [
              "         E1   E2   E3   E4\n",
              "Alice   5.1  7.5  7.5  2.0\n",
              "Bruno   4.3  4.7  2.3  2.6\n",
              "Carla   7.2  4.9  5.5  5.4\n",
              "David   4.0  8.3  7.0  7.5\n",
              "Emily   3.6  4.6  5.5  3.1\n",
              "Fabio   3.2  2.9  7.2  7.9\n",
              "Gisele  8.6  4.9  6.2  8.7"
            ]
          },
          "metadata": {
            "tags": []
          },
          "execution_count": 5
        }
      ]
    },
    {
      "cell_type": "code",
      "metadata": {
        "colab": {
          "base_uri": "https://localhost:8080/",
          "height": 173
        },
        "id": "3m-GH0wTn5jc",
        "outputId": "d447ceb1-18cb-40f8-be16-6e84c4f394a6"
      },
      "source": [
        "# Transpose the data.frame:\n",
        "\n",
        "grades.transpose()"
      ],
      "execution_count": null,
      "outputs": [
        {
          "output_type": "execute_result",
          "data": {
            "text/html": [
              "<div>\n",
              "<style scoped>\n",
              "    .dataframe tbody tr th:only-of-type {\n",
              "        vertical-align: middle;\n",
              "    }\n",
              "\n",
              "    .dataframe tbody tr th {\n",
              "        vertical-align: top;\n",
              "    }\n",
              "\n",
              "    .dataframe thead th {\n",
              "        text-align: right;\n",
              "    }\n",
              "</style>\n",
              "<table border=\"1\" class=\"dataframe\">\n",
              "  <thead>\n",
              "    <tr style=\"text-align: right;\">\n",
              "      <th></th>\n",
              "      <th>Alice</th>\n",
              "      <th>Bruno</th>\n",
              "      <th>Carla</th>\n",
              "      <th>David</th>\n",
              "      <th>Emily</th>\n",
              "      <th>Fabio</th>\n",
              "      <th>Gisele</th>\n",
              "    </tr>\n",
              "  </thead>\n",
              "  <tbody>\n",
              "    <tr>\n",
              "      <th>E1</th>\n",
              "      <td>5.1</td>\n",
              "      <td>4.3</td>\n",
              "      <td>7.2</td>\n",
              "      <td>4.0</td>\n",
              "      <td>3.6</td>\n",
              "      <td>3.2</td>\n",
              "      <td>8.6</td>\n",
              "    </tr>\n",
              "    <tr>\n",
              "      <th>E2</th>\n",
              "      <td>7.5</td>\n",
              "      <td>4.7</td>\n",
              "      <td>4.9</td>\n",
              "      <td>8.3</td>\n",
              "      <td>4.6</td>\n",
              "      <td>2.9</td>\n",
              "      <td>4.9</td>\n",
              "    </tr>\n",
              "    <tr>\n",
              "      <th>E3</th>\n",
              "      <td>7.5</td>\n",
              "      <td>2.3</td>\n",
              "      <td>5.5</td>\n",
              "      <td>7.0</td>\n",
              "      <td>5.5</td>\n",
              "      <td>7.2</td>\n",
              "      <td>6.2</td>\n",
              "    </tr>\n",
              "    <tr>\n",
              "      <th>E4</th>\n",
              "      <td>2.0</td>\n",
              "      <td>2.6</td>\n",
              "      <td>5.4</td>\n",
              "      <td>7.5</td>\n",
              "      <td>3.1</td>\n",
              "      <td>7.9</td>\n",
              "      <td>8.7</td>\n",
              "    </tr>\n",
              "  </tbody>\n",
              "</table>\n",
              "</div>"
            ],
            "text/plain": [
              "    Alice  Bruno  Carla  David  Emily  Fabio  Gisele\n",
              "E1    5.1    4.3    7.2    4.0    3.6    3.2     8.6\n",
              "E2    7.5    4.7    4.9    8.3    4.6    2.9     4.9\n",
              "E3    7.5    2.3    5.5    7.0    5.5    7.2     6.2\n",
              "E4    2.0    2.6    5.4    7.5    3.1    7.9     8.7"
            ]
          },
          "metadata": {
            "tags": []
          },
          "execution_count": 6
        }
      ]
    },
    {
      "cell_type": "code",
      "metadata": {
        "colab": {
          "base_uri": "https://localhost:8080/",
          "height": 173
        },
        "id": "H-rpD5uzoDZh",
        "outputId": "d962d1ec-3b7f-4055-b980-a01aece72357"
      },
      "source": [
        "# Transpose the data.frame I:\n",
        "\n",
        "grades.T"
      ],
      "execution_count": null,
      "outputs": [
        {
          "output_type": "execute_result",
          "data": {
            "text/html": [
              "<div>\n",
              "<style scoped>\n",
              "    .dataframe tbody tr th:only-of-type {\n",
              "        vertical-align: middle;\n",
              "    }\n",
              "\n",
              "    .dataframe tbody tr th {\n",
              "        vertical-align: top;\n",
              "    }\n",
              "\n",
              "    .dataframe thead th {\n",
              "        text-align: right;\n",
              "    }\n",
              "</style>\n",
              "<table border=\"1\" class=\"dataframe\">\n",
              "  <thead>\n",
              "    <tr style=\"text-align: right;\">\n",
              "      <th></th>\n",
              "      <th>Alice</th>\n",
              "      <th>Bruno</th>\n",
              "      <th>Carla</th>\n",
              "      <th>David</th>\n",
              "      <th>Emily</th>\n",
              "      <th>Fabio</th>\n",
              "      <th>Gisele</th>\n",
              "    </tr>\n",
              "  </thead>\n",
              "  <tbody>\n",
              "    <tr>\n",
              "      <th>E1</th>\n",
              "      <td>5.1</td>\n",
              "      <td>4.3</td>\n",
              "      <td>7.2</td>\n",
              "      <td>4.0</td>\n",
              "      <td>3.6</td>\n",
              "      <td>3.2</td>\n",
              "      <td>8.6</td>\n",
              "    </tr>\n",
              "    <tr>\n",
              "      <th>E2</th>\n",
              "      <td>7.5</td>\n",
              "      <td>4.7</td>\n",
              "      <td>4.9</td>\n",
              "      <td>8.3</td>\n",
              "      <td>4.6</td>\n",
              "      <td>2.9</td>\n",
              "      <td>4.9</td>\n",
              "    </tr>\n",
              "    <tr>\n",
              "      <th>E3</th>\n",
              "      <td>7.5</td>\n",
              "      <td>2.3</td>\n",
              "      <td>5.5</td>\n",
              "      <td>7.0</td>\n",
              "      <td>5.5</td>\n",
              "      <td>7.2</td>\n",
              "      <td>6.2</td>\n",
              "    </tr>\n",
              "    <tr>\n",
              "      <th>E4</th>\n",
              "      <td>2.0</td>\n",
              "      <td>2.6</td>\n",
              "      <td>5.4</td>\n",
              "      <td>7.5</td>\n",
              "      <td>3.1</td>\n",
              "      <td>7.9</td>\n",
              "      <td>8.7</td>\n",
              "    </tr>\n",
              "  </tbody>\n",
              "</table>\n",
              "</div>"
            ],
            "text/plain": [
              "    Alice  Bruno  Carla  David  Emily  Fabio  Gisele\n",
              "E1    5.1    4.3    7.2    4.0    3.6    3.2     8.6\n",
              "E2    7.5    4.7    4.9    8.3    4.6    2.9     4.9\n",
              "E3    7.5    2.3    5.5    7.0    5.5    7.2     6.2\n",
              "E4    2.0    2.6    5.4    7.5    3.1    7.9     8.7"
            ]
          },
          "metadata": {
            "tags": []
          },
          "execution_count": 7
        }
      ]
    },
    {
      "cell_type": "code",
      "metadata": {
        "colab": {
          "base_uri": "https://localhost:8080/"
        },
        "id": "Eq5FaVc6oHEy",
        "outputId": "e47b20ad-b54f-4f1b-89a0-76eabc510f23"
      },
      "source": [
        "# Checking its structure:\n",
        "\n",
        "grades.info()"
      ],
      "execution_count": null,
      "outputs": [
        {
          "output_type": "stream",
          "text": [
            "<class 'pandas.core.frame.DataFrame'>\n",
            "Index: 7 entries, Alice to Gisele\n",
            "Data columns (total 4 columns):\n",
            " #   Column  Non-Null Count  Dtype  \n",
            "---  ------  --------------  -----  \n",
            " 0   E1      7 non-null      float64\n",
            " 1   E2      7 non-null      float64\n",
            " 2   E3      7 non-null      float64\n",
            " 3   E4      7 non-null      float64\n",
            "dtypes: float64(4)\n",
            "memory usage: 600.0+ bytes\n"
          ],
          "name": "stdout"
        }
      ]
    },
    {
      "cell_type": "code",
      "metadata": {
        "colab": {
          "base_uri": "https://localhost:8080/"
        },
        "id": "aG9_FsB4p4V-",
        "outputId": "73ff9080-8441-4a07-ab9d-436933447dcb"
      },
      "source": [
        "# Cheking the number of columns and rows:\n",
        "\n",
        "print(grades.shape[0])\n",
        "print(grades.shape[1])"
      ],
      "execution_count": null,
      "outputs": [
        {
          "output_type": "stream",
          "text": [
            "7\n",
            "4\n"
          ],
          "name": "stdout"
        }
      ]
    },
    {
      "cell_type": "code",
      "metadata": {
        "colab": {
          "base_uri": "https://localhost:8080/"
        },
        "id": "ons2F9-oqO4X",
        "outputId": "8afd8e6c-e383-4655-924c-5eb0f5f41f10"
      },
      "source": [
        "# Visualizing the data frame:\n",
        "\n",
        "## the first columns:\n",
        "print(grades.head(3))\n",
        "\n",
        "## the last columns:\n",
        "print(grades.tail(3))\n",
        "\n",
        "# extracting a sample from the data.frame:\n",
        "print(grades.sample(3))\n"
      ],
      "execution_count": null,
      "outputs": [
        {
          "output_type": "stream",
          "text": [
            "        E1   E2   E3   E4\n",
            "Alice  5.1  7.5  7.5  2.0\n",
            "Bruno  4.3  4.7  2.3  2.6\n",
            "Carla  7.2  4.9  5.5  5.4\n",
            "         E1   E2   E3   E4\n",
            "Emily   3.6  4.6  5.5  3.1\n",
            "Fabio   3.2  2.9  7.2  7.9\n",
            "Gisele  8.6  4.9  6.2  8.7\n",
            "        E1   E2   E3   E4\n",
            "Fabio  3.2  2.9  7.2  7.9\n",
            "Emily  3.6  4.6  5.5  3.1\n",
            "David  4.0  8.3  7.0  7.5\n"
          ],
          "name": "stdout"
        }
      ]
    },
    {
      "cell_type": "code",
      "metadata": {
        "colab": {
          "base_uri": "https://localhost:8080/",
          "height": 297
        },
        "id": "0uA9XgYQrLcY",
        "outputId": "1f20f298-3a18-4af7-9f42-58d6cd93cc43"
      },
      "source": [
        "# Descriptive analysis:\n",
        "\n",
        "grades.describe()"
      ],
      "execution_count": null,
      "outputs": [
        {
          "output_type": "execute_result",
          "data": {
            "text/html": [
              "<div>\n",
              "<style scoped>\n",
              "    .dataframe tbody tr th:only-of-type {\n",
              "        vertical-align: middle;\n",
              "    }\n",
              "\n",
              "    .dataframe tbody tr th {\n",
              "        vertical-align: top;\n",
              "    }\n",
              "\n",
              "    .dataframe thead th {\n",
              "        text-align: right;\n",
              "    }\n",
              "</style>\n",
              "<table border=\"1\" class=\"dataframe\">\n",
              "  <thead>\n",
              "    <tr style=\"text-align: right;\">\n",
              "      <th></th>\n",
              "      <th>E1</th>\n",
              "      <th>E2</th>\n",
              "      <th>E3</th>\n",
              "      <th>E4</th>\n",
              "    </tr>\n",
              "  </thead>\n",
              "  <tbody>\n",
              "    <tr>\n",
              "      <th>count</th>\n",
              "      <td>7.000000</td>\n",
              "      <td>7.000000</td>\n",
              "      <td>7.000000</td>\n",
              "      <td>7.000000</td>\n",
              "    </tr>\n",
              "    <tr>\n",
              "      <th>mean</th>\n",
              "      <td>5.142857</td>\n",
              "      <td>5.400000</td>\n",
              "      <td>5.885714</td>\n",
              "      <td>5.314286</td>\n",
              "    </tr>\n",
              "    <tr>\n",
              "      <th>std</th>\n",
              "      <td>2.014826</td>\n",
              "      <td>1.857418</td>\n",
              "      <td>1.771467</td>\n",
              "      <td>2.774544</td>\n",
              "    </tr>\n",
              "    <tr>\n",
              "      <th>min</th>\n",
              "      <td>3.200000</td>\n",
              "      <td>2.900000</td>\n",
              "      <td>2.300000</td>\n",
              "      <td>2.000000</td>\n",
              "    </tr>\n",
              "    <tr>\n",
              "      <th>25%</th>\n",
              "      <td>3.800000</td>\n",
              "      <td>4.650000</td>\n",
              "      <td>5.500000</td>\n",
              "      <td>2.850000</td>\n",
              "    </tr>\n",
              "    <tr>\n",
              "      <th>50%</th>\n",
              "      <td>4.300000</td>\n",
              "      <td>4.900000</td>\n",
              "      <td>6.200000</td>\n",
              "      <td>5.400000</td>\n",
              "    </tr>\n",
              "    <tr>\n",
              "      <th>75%</th>\n",
              "      <td>6.150000</td>\n",
              "      <td>6.200000</td>\n",
              "      <td>7.100000</td>\n",
              "      <td>7.700000</td>\n",
              "    </tr>\n",
              "    <tr>\n",
              "      <th>max</th>\n",
              "      <td>8.600000</td>\n",
              "      <td>8.300000</td>\n",
              "      <td>7.500000</td>\n",
              "      <td>8.700000</td>\n",
              "    </tr>\n",
              "  </tbody>\n",
              "</table>\n",
              "</div>"
            ],
            "text/plain": [
              "             E1        E2        E3        E4\n",
              "count  7.000000  7.000000  7.000000  7.000000\n",
              "mean   5.142857  5.400000  5.885714  5.314286\n",
              "std    2.014826  1.857418  1.771467  2.774544\n",
              "min    3.200000  2.900000  2.300000  2.000000\n",
              "25%    3.800000  4.650000  5.500000  2.850000\n",
              "50%    4.300000  4.900000  6.200000  5.400000\n",
              "75%    6.150000  6.200000  7.100000  7.700000\n",
              "max    8.600000  8.300000  7.500000  8.700000"
            ]
          },
          "metadata": {
            "tags": []
          },
          "execution_count": 15
        }
      ]
    },
    {
      "cell_type": "code",
      "metadata": {
        "id": "V-w0oIuqr01U"
      },
      "source": [
        "# Assigning gender to the students:\n",
        "\n",
        "gender = ['F', 'M', 'F', 'M', 'F', 'M','F']"
      ],
      "execution_count": null,
      "outputs": []
    },
    {
      "cell_type": "code",
      "metadata": {
        "colab": {
          "base_uri": "https://localhost:8080/"
        },
        "id": "bdn7RHpxrdVy",
        "outputId": "d5017b24-0c41-475e-bdcc-3a69c773ede1"
      },
      "source": [
        "# Type\n",
        "\n",
        "grades['E1']"
      ],
      "execution_count": null,
      "outputs": [
        {
          "output_type": "execute_result",
          "data": {
            "text/plain": [
              "Alice     5.1\n",
              "Bruno     4.3\n",
              "Carla     7.2\n",
              "David     4.0\n",
              "Emily     3.6\n",
              "Fabio     3.2\n",
              "Gisele    8.6\n",
              "Name: E1, dtype: float64"
            ]
          },
          "metadata": {
            "tags": []
          },
          "execution_count": 26
        }
      ]
    },
    {
      "cell_type": "code",
      "metadata": {
        "colab": {
          "base_uri": "https://localhost:8080/",
          "height": 266
        },
        "id": "IxWQZqyDvcMo",
        "outputId": "809d4c9a-121e-46fc-a1d9-55a74f2974eb"
      },
      "source": [
        "# Add a new column/variable:\n",
        "\n",
        "grades['Gender'] = gender\n",
        "\n",
        "grades"
      ],
      "execution_count": null,
      "outputs": [
        {
          "output_type": "execute_result",
          "data": {
            "text/html": [
              "<div>\n",
              "<style scoped>\n",
              "    .dataframe tbody tr th:only-of-type {\n",
              "        vertical-align: middle;\n",
              "    }\n",
              "\n",
              "    .dataframe tbody tr th {\n",
              "        vertical-align: top;\n",
              "    }\n",
              "\n",
              "    .dataframe thead th {\n",
              "        text-align: right;\n",
              "    }\n",
              "</style>\n",
              "<table border=\"1\" class=\"dataframe\">\n",
              "  <thead>\n",
              "    <tr style=\"text-align: right;\">\n",
              "      <th></th>\n",
              "      <th>E1</th>\n",
              "      <th>E2</th>\n",
              "      <th>E3</th>\n",
              "      <th>E4</th>\n",
              "      <th>Gender</th>\n",
              "    </tr>\n",
              "  </thead>\n",
              "  <tbody>\n",
              "    <tr>\n",
              "      <th>Alice</th>\n",
              "      <td>5.1</td>\n",
              "      <td>7.5</td>\n",
              "      <td>7.5</td>\n",
              "      <td>2.0</td>\n",
              "      <td>F</td>\n",
              "    </tr>\n",
              "    <tr>\n",
              "      <th>Bruno</th>\n",
              "      <td>4.3</td>\n",
              "      <td>4.7</td>\n",
              "      <td>2.3</td>\n",
              "      <td>2.6</td>\n",
              "      <td>M</td>\n",
              "    </tr>\n",
              "    <tr>\n",
              "      <th>Carla</th>\n",
              "      <td>7.2</td>\n",
              "      <td>4.9</td>\n",
              "      <td>5.5</td>\n",
              "      <td>5.4</td>\n",
              "      <td>F</td>\n",
              "    </tr>\n",
              "    <tr>\n",
              "      <th>David</th>\n",
              "      <td>4.0</td>\n",
              "      <td>8.3</td>\n",
              "      <td>7.0</td>\n",
              "      <td>7.5</td>\n",
              "      <td>M</td>\n",
              "    </tr>\n",
              "    <tr>\n",
              "      <th>Emily</th>\n",
              "      <td>3.6</td>\n",
              "      <td>4.6</td>\n",
              "      <td>5.5</td>\n",
              "      <td>3.1</td>\n",
              "      <td>F</td>\n",
              "    </tr>\n",
              "    <tr>\n",
              "      <th>Fabio</th>\n",
              "      <td>3.2</td>\n",
              "      <td>2.9</td>\n",
              "      <td>7.2</td>\n",
              "      <td>7.9</td>\n",
              "      <td>M</td>\n",
              "    </tr>\n",
              "    <tr>\n",
              "      <th>Gisele</th>\n",
              "      <td>8.6</td>\n",
              "      <td>4.9</td>\n",
              "      <td>6.2</td>\n",
              "      <td>8.7</td>\n",
              "      <td>F</td>\n",
              "    </tr>\n",
              "  </tbody>\n",
              "</table>\n",
              "</div>"
            ],
            "text/plain": [
              "         E1   E2   E3   E4 Gender\n",
              "Alice   5.1  7.5  7.5  2.0      F\n",
              "Bruno   4.3  4.7  2.3  2.6      M\n",
              "Carla   7.2  4.9  5.5  5.4      F\n",
              "David   4.0  8.3  7.0  7.5      M\n",
              "Emily   3.6  4.6  5.5  3.1      F\n",
              "Fabio   3.2  2.9  7.2  7.9      M\n",
              "Gisele  8.6  4.9  6.2  8.7      F"
            ]
          },
          "metadata": {
            "tags": []
          },
          "execution_count": 27
        }
      ]
    },
    {
      "cell_type": "code",
      "metadata": {
        "colab": {
          "base_uri": "https://localhost:8080/",
          "height": 111
        },
        "id": "6qN0z5v8vktO",
        "outputId": "5444f977-ee0b-482a-e1f4-e35d40eb63d3"
      },
      "source": [
        "# Filter the data.frame I:\n",
        "\n",
        "grades[(grades['E4'] > 4) & (grades['Gender'] == 'F')]"
      ],
      "execution_count": null,
      "outputs": [
        {
          "output_type": "execute_result",
          "data": {
            "text/html": [
              "<div>\n",
              "<style scoped>\n",
              "    .dataframe tbody tr th:only-of-type {\n",
              "        vertical-align: middle;\n",
              "    }\n",
              "\n",
              "    .dataframe tbody tr th {\n",
              "        vertical-align: top;\n",
              "    }\n",
              "\n",
              "    .dataframe thead th {\n",
              "        text-align: right;\n",
              "    }\n",
              "</style>\n",
              "<table border=\"1\" class=\"dataframe\">\n",
              "  <thead>\n",
              "    <tr style=\"text-align: right;\">\n",
              "      <th></th>\n",
              "      <th>E1</th>\n",
              "      <th>E2</th>\n",
              "      <th>E3</th>\n",
              "      <th>E4</th>\n",
              "      <th>Gender</th>\n",
              "    </tr>\n",
              "  </thead>\n",
              "  <tbody>\n",
              "    <tr>\n",
              "      <th>Carla</th>\n",
              "      <td>7.2</td>\n",
              "      <td>4.9</td>\n",
              "      <td>5.5</td>\n",
              "      <td>5.4</td>\n",
              "      <td>F</td>\n",
              "    </tr>\n",
              "    <tr>\n",
              "      <th>Gisele</th>\n",
              "      <td>8.6</td>\n",
              "      <td>4.9</td>\n",
              "      <td>6.2</td>\n",
              "      <td>8.7</td>\n",
              "      <td>F</td>\n",
              "    </tr>\n",
              "  </tbody>\n",
              "</table>\n",
              "</div>"
            ],
            "text/plain": [
              "         E1   E2   E3   E4 Gender\n",
              "Carla   7.2  4.9  5.5  5.4      F\n",
              "Gisele  8.6  4.9  6.2  8.7      F"
            ]
          },
          "metadata": {
            "tags": []
          },
          "execution_count": 28
        }
      ]
    },
    {
      "cell_type": "code",
      "metadata": {
        "colab": {
          "base_uri": "https://localhost:8080/",
          "height": 145
        },
        "id": "dvacLSYPv3x4",
        "outputId": "17f2318d-79e5-4bf5-ec3e-60b500d49bcc"
      },
      "source": [
        "# Filter the data.frame II:\n",
        "\n",
        "grades[grades['E4'] > 4][grades['Gender'] == 'F']"
      ],
      "execution_count": null,
      "outputs": [
        {
          "output_type": "stream",
          "text": [
            "/usr/local/lib/python3.7/dist-packages/ipykernel_launcher.py:3: UserWarning: Boolean Series key will be reindexed to match DataFrame index.\n",
            "  This is separate from the ipykernel package so we can avoid doing imports until\n"
          ],
          "name": "stderr"
        },
        {
          "output_type": "execute_result",
          "data": {
            "text/html": [
              "<div>\n",
              "<style scoped>\n",
              "    .dataframe tbody tr th:only-of-type {\n",
              "        vertical-align: middle;\n",
              "    }\n",
              "\n",
              "    .dataframe tbody tr th {\n",
              "        vertical-align: top;\n",
              "    }\n",
              "\n",
              "    .dataframe thead th {\n",
              "        text-align: right;\n",
              "    }\n",
              "</style>\n",
              "<table border=\"1\" class=\"dataframe\">\n",
              "  <thead>\n",
              "    <tr style=\"text-align: right;\">\n",
              "      <th></th>\n",
              "      <th>E1</th>\n",
              "      <th>E2</th>\n",
              "      <th>E3</th>\n",
              "      <th>E4</th>\n",
              "      <th>Gender</th>\n",
              "    </tr>\n",
              "  </thead>\n",
              "  <tbody>\n",
              "    <tr>\n",
              "      <th>Carla</th>\n",
              "      <td>7.2</td>\n",
              "      <td>4.9</td>\n",
              "      <td>5.5</td>\n",
              "      <td>5.4</td>\n",
              "      <td>F</td>\n",
              "    </tr>\n",
              "    <tr>\n",
              "      <th>Gisele</th>\n",
              "      <td>8.6</td>\n",
              "      <td>4.9</td>\n",
              "      <td>6.2</td>\n",
              "      <td>8.7</td>\n",
              "      <td>F</td>\n",
              "    </tr>\n",
              "  </tbody>\n",
              "</table>\n",
              "</div>"
            ],
            "text/plain": [
              "         E1   E2   E3   E4 Gender\n",
              "Carla   7.2  4.9  5.5  5.4      F\n",
              "Gisele  8.6  4.9  6.2  8.7      F"
            ]
          },
          "metadata": {
            "tags": []
          },
          "execution_count": 29
        }
      ]
    },
    {
      "cell_type": "code",
      "metadata": {
        "colab": {
          "base_uri": "https://localhost:8080/",
          "height": 111
        },
        "id": "4mmNdwTd0pJP",
        "outputId": "359d6e1b-e5c4-4129-aaa0-0b5d5ca8cb46"
      },
      "source": [
        "# Filter the data.frame III:\n",
        "\n",
        "grades.loc[grades['E4'] > 4, :].loc[grades['Gender'] == 'F', :]"
      ],
      "execution_count": null,
      "outputs": [
        {
          "output_type": "execute_result",
          "data": {
            "text/html": [
              "<div>\n",
              "<style scoped>\n",
              "    .dataframe tbody tr th:only-of-type {\n",
              "        vertical-align: middle;\n",
              "    }\n",
              "\n",
              "    .dataframe tbody tr th {\n",
              "        vertical-align: top;\n",
              "    }\n",
              "\n",
              "    .dataframe thead th {\n",
              "        text-align: right;\n",
              "    }\n",
              "</style>\n",
              "<table border=\"1\" class=\"dataframe\">\n",
              "  <thead>\n",
              "    <tr style=\"text-align: right;\">\n",
              "      <th></th>\n",
              "      <th>E1</th>\n",
              "      <th>E2</th>\n",
              "      <th>E3</th>\n",
              "      <th>E4</th>\n",
              "      <th>Gender</th>\n",
              "    </tr>\n",
              "  </thead>\n",
              "  <tbody>\n",
              "    <tr>\n",
              "      <th>Carla</th>\n",
              "      <td>7.2</td>\n",
              "      <td>4.9</td>\n",
              "      <td>5.5</td>\n",
              "      <td>5.4</td>\n",
              "      <td>F</td>\n",
              "    </tr>\n",
              "    <tr>\n",
              "      <th>Gisele</th>\n",
              "      <td>8.6</td>\n",
              "      <td>4.9</td>\n",
              "      <td>6.2</td>\n",
              "      <td>8.7</td>\n",
              "      <td>F</td>\n",
              "    </tr>\n",
              "  </tbody>\n",
              "</table>\n",
              "</div>"
            ],
            "text/plain": [
              "         E1   E2   E3   E4 Gender\n",
              "Carla   7.2  4.9  5.5  5.4      F\n",
              "Gisele  8.6  4.9  6.2  8.7      F"
            ]
          },
          "metadata": {
            "tags": []
          },
          "execution_count": 30
        }
      ]
    },
    {
      "cell_type": "code",
      "metadata": {
        "colab": {
          "base_uri": "https://localhost:8080/"
        },
        "id": "2_XUzH2L1M5c",
        "outputId": "51b63937-386a-4d7a-d573-c65f2c118fc2"
      },
      "source": [
        "# Filter the data.frame IV:\n",
        "\n",
        "grades.iloc[1,3]"
      ],
      "execution_count": null,
      "outputs": [
        {
          "output_type": "execute_result",
          "data": {
            "text/plain": [
              "2.6"
            ]
          },
          "metadata": {
            "tags": []
          },
          "execution_count": 31
        }
      ]
    },
    {
      "cell_type": "code",
      "metadata": {
        "colab": {
          "base_uri": "https://localhost:8080/",
          "height": 204
        },
        "id": "aj_gPLJS12Io",
        "outputId": "b4a01cf2-9de6-4de7-cd4b-174ce3d19fe4"
      },
      "source": [
        "# Filter the data.frame V:\n",
        "\n",
        "grades.iloc[2:,:]"
      ],
      "execution_count": null,
      "outputs": [
        {
          "output_type": "execute_result",
          "data": {
            "text/html": [
              "<div>\n",
              "<style scoped>\n",
              "    .dataframe tbody tr th:only-of-type {\n",
              "        vertical-align: middle;\n",
              "    }\n",
              "\n",
              "    .dataframe tbody tr th {\n",
              "        vertical-align: top;\n",
              "    }\n",
              "\n",
              "    .dataframe thead th {\n",
              "        text-align: right;\n",
              "    }\n",
              "</style>\n",
              "<table border=\"1\" class=\"dataframe\">\n",
              "  <thead>\n",
              "    <tr style=\"text-align: right;\">\n",
              "      <th></th>\n",
              "      <th>E1</th>\n",
              "      <th>E2</th>\n",
              "      <th>E3</th>\n",
              "      <th>E4</th>\n",
              "      <th>Gender</th>\n",
              "    </tr>\n",
              "  </thead>\n",
              "  <tbody>\n",
              "    <tr>\n",
              "      <th>Carla</th>\n",
              "      <td>7.2</td>\n",
              "      <td>4.9</td>\n",
              "      <td>5.5</td>\n",
              "      <td>5.4</td>\n",
              "      <td>F</td>\n",
              "    </tr>\n",
              "    <tr>\n",
              "      <th>David</th>\n",
              "      <td>4.0</td>\n",
              "      <td>8.3</td>\n",
              "      <td>7.0</td>\n",
              "      <td>7.5</td>\n",
              "      <td>M</td>\n",
              "    </tr>\n",
              "    <tr>\n",
              "      <th>Emily</th>\n",
              "      <td>3.6</td>\n",
              "      <td>4.6</td>\n",
              "      <td>5.5</td>\n",
              "      <td>3.1</td>\n",
              "      <td>F</td>\n",
              "    </tr>\n",
              "    <tr>\n",
              "      <th>Fabio</th>\n",
              "      <td>3.2</td>\n",
              "      <td>2.9</td>\n",
              "      <td>7.2</td>\n",
              "      <td>7.9</td>\n",
              "      <td>M</td>\n",
              "    </tr>\n",
              "    <tr>\n",
              "      <th>Gisele</th>\n",
              "      <td>8.6</td>\n",
              "      <td>4.9</td>\n",
              "      <td>6.2</td>\n",
              "      <td>8.7</td>\n",
              "      <td>F</td>\n",
              "    </tr>\n",
              "  </tbody>\n",
              "</table>\n",
              "</div>"
            ],
            "text/plain": [
              "         E1   E2   E3   E4 Gender\n",
              "Carla   7.2  4.9  5.5  5.4      F\n",
              "David   4.0  8.3  7.0  7.5      M\n",
              "Emily   3.6  4.6  5.5  3.1      F\n",
              "Fabio   3.2  2.9  7.2  7.9      M\n",
              "Gisele  8.6  4.9  6.2  8.7      F"
            ]
          },
          "metadata": {
            "tags": []
          },
          "execution_count": 32
        }
      ]
    },
    {
      "cell_type": "code",
      "metadata": {
        "colab": {
          "base_uri": "https://localhost:8080/",
          "height": 266
        },
        "id": "e80spSRX2mzV",
        "outputId": "101dfa9f-d6c7-4a0a-ee4a-3c66a2fd39f7"
      },
      "source": [
        "# The average grade of each student:\n",
        "\n",
        "grades['AG'] = grades.mean(axis = 1).round(1)\n",
        "grades"
      ],
      "execution_count": null,
      "outputs": [
        {
          "output_type": "execute_result",
          "data": {
            "text/html": [
              "<div>\n",
              "<style scoped>\n",
              "    .dataframe tbody tr th:only-of-type {\n",
              "        vertical-align: middle;\n",
              "    }\n",
              "\n",
              "    .dataframe tbody tr th {\n",
              "        vertical-align: top;\n",
              "    }\n",
              "\n",
              "    .dataframe thead th {\n",
              "        text-align: right;\n",
              "    }\n",
              "</style>\n",
              "<table border=\"1\" class=\"dataframe\">\n",
              "  <thead>\n",
              "    <tr style=\"text-align: right;\">\n",
              "      <th></th>\n",
              "      <th>E1</th>\n",
              "      <th>E2</th>\n",
              "      <th>E3</th>\n",
              "      <th>E4</th>\n",
              "      <th>Gender</th>\n",
              "      <th>AG</th>\n",
              "    </tr>\n",
              "  </thead>\n",
              "  <tbody>\n",
              "    <tr>\n",
              "      <th>Alice</th>\n",
              "      <td>5.1</td>\n",
              "      <td>7.5</td>\n",
              "      <td>7.5</td>\n",
              "      <td>2.0</td>\n",
              "      <td>F</td>\n",
              "      <td>5.5</td>\n",
              "    </tr>\n",
              "    <tr>\n",
              "      <th>Bruno</th>\n",
              "      <td>4.3</td>\n",
              "      <td>4.7</td>\n",
              "      <td>2.3</td>\n",
              "      <td>2.6</td>\n",
              "      <td>M</td>\n",
              "      <td>3.5</td>\n",
              "    </tr>\n",
              "    <tr>\n",
              "      <th>Carla</th>\n",
              "      <td>7.2</td>\n",
              "      <td>4.9</td>\n",
              "      <td>5.5</td>\n",
              "      <td>5.4</td>\n",
              "      <td>F</td>\n",
              "      <td>5.8</td>\n",
              "    </tr>\n",
              "    <tr>\n",
              "      <th>David</th>\n",
              "      <td>4.0</td>\n",
              "      <td>8.3</td>\n",
              "      <td>7.0</td>\n",
              "      <td>7.5</td>\n",
              "      <td>M</td>\n",
              "      <td>6.7</td>\n",
              "    </tr>\n",
              "    <tr>\n",
              "      <th>Emily</th>\n",
              "      <td>3.6</td>\n",
              "      <td>4.6</td>\n",
              "      <td>5.5</td>\n",
              "      <td>3.1</td>\n",
              "      <td>F</td>\n",
              "      <td>4.2</td>\n",
              "    </tr>\n",
              "    <tr>\n",
              "      <th>Fabio</th>\n",
              "      <td>3.2</td>\n",
              "      <td>2.9</td>\n",
              "      <td>7.2</td>\n",
              "      <td>7.9</td>\n",
              "      <td>M</td>\n",
              "      <td>5.3</td>\n",
              "    </tr>\n",
              "    <tr>\n",
              "      <th>Gisele</th>\n",
              "      <td>8.6</td>\n",
              "      <td>4.9</td>\n",
              "      <td>6.2</td>\n",
              "      <td>8.7</td>\n",
              "      <td>F</td>\n",
              "      <td>7.1</td>\n",
              "    </tr>\n",
              "  </tbody>\n",
              "</table>\n",
              "</div>"
            ],
            "text/plain": [
              "         E1   E2   E3   E4 Gender   AG\n",
              "Alice   5.1  7.5  7.5  2.0      F  5.5\n",
              "Bruno   4.3  4.7  2.3  2.6      M  3.5\n",
              "Carla   7.2  4.9  5.5  5.4      F  5.8\n",
              "David   4.0  8.3  7.0  7.5      M  6.7\n",
              "Emily   3.6  4.6  5.5  3.1      F  4.2\n",
              "Fabio   3.2  2.9  7.2  7.9      M  5.3\n",
              "Gisele  8.6  4.9  6.2  8.7      F  7.1"
            ]
          },
          "metadata": {
            "tags": []
          },
          "execution_count": 33
        }
      ]
    },
    {
      "cell_type": "code",
      "metadata": {
        "colab": {
          "base_uri": "https://localhost:8080/",
          "height": 35
        },
        "id": "LsykIejW3NRH",
        "outputId": "69a0f787-8d71-4723-9d74-8211c292ea9c"
      },
      "source": [
        "# Check the student approval:\n",
        "\n",
        "def approval(x):\n",
        "  if x >= 6:\n",
        "    return 'Approved'\n",
        "  else:\n",
        "    return 'Not approved'\n",
        "\n",
        "approval(1)"
      ],
      "execution_count": null,
      "outputs": [
        {
          "output_type": "execute_result",
          "data": {
            "application/vnd.google.colaboratory.intrinsic+json": {
              "type": "string"
            },
            "text/plain": [
              "'Not approved'"
            ]
          },
          "metadata": {
            "tags": []
          },
          "execution_count": 34
        }
      ]
    },
    {
      "cell_type": "code",
      "metadata": {
        "colab": {
          "base_uri": "https://localhost:8080/",
          "height": 266
        },
        "id": "VV7dIJXa4k6n",
        "outputId": "97be42d7-8318-4053-8b2b-1701b7f118cc"
      },
      "source": [
        "grades['Status'] = grades['AG'].apply(approval)\n",
        "\n",
        "grades"
      ],
      "execution_count": null,
      "outputs": [
        {
          "output_type": "execute_result",
          "data": {
            "text/html": [
              "<div>\n",
              "<style scoped>\n",
              "    .dataframe tbody tr th:only-of-type {\n",
              "        vertical-align: middle;\n",
              "    }\n",
              "\n",
              "    .dataframe tbody tr th {\n",
              "        vertical-align: top;\n",
              "    }\n",
              "\n",
              "    .dataframe thead th {\n",
              "        text-align: right;\n",
              "    }\n",
              "</style>\n",
              "<table border=\"1\" class=\"dataframe\">\n",
              "  <thead>\n",
              "    <tr style=\"text-align: right;\">\n",
              "      <th></th>\n",
              "      <th>E1</th>\n",
              "      <th>E2</th>\n",
              "      <th>E3</th>\n",
              "      <th>E4</th>\n",
              "      <th>Gender</th>\n",
              "      <th>AG</th>\n",
              "      <th>Status</th>\n",
              "    </tr>\n",
              "  </thead>\n",
              "  <tbody>\n",
              "    <tr>\n",
              "      <th>Alice</th>\n",
              "      <td>5.1</td>\n",
              "      <td>7.5</td>\n",
              "      <td>7.5</td>\n",
              "      <td>2.0</td>\n",
              "      <td>F</td>\n",
              "      <td>5.5</td>\n",
              "      <td>Not approved</td>\n",
              "    </tr>\n",
              "    <tr>\n",
              "      <th>Bruno</th>\n",
              "      <td>4.3</td>\n",
              "      <td>4.7</td>\n",
              "      <td>2.3</td>\n",
              "      <td>2.6</td>\n",
              "      <td>M</td>\n",
              "      <td>3.5</td>\n",
              "      <td>Not approved</td>\n",
              "    </tr>\n",
              "    <tr>\n",
              "      <th>Carla</th>\n",
              "      <td>7.2</td>\n",
              "      <td>4.9</td>\n",
              "      <td>5.5</td>\n",
              "      <td>5.4</td>\n",
              "      <td>F</td>\n",
              "      <td>5.8</td>\n",
              "      <td>Not approved</td>\n",
              "    </tr>\n",
              "    <tr>\n",
              "      <th>David</th>\n",
              "      <td>4.0</td>\n",
              "      <td>8.3</td>\n",
              "      <td>7.0</td>\n",
              "      <td>7.5</td>\n",
              "      <td>M</td>\n",
              "      <td>6.7</td>\n",
              "      <td>Approved</td>\n",
              "    </tr>\n",
              "    <tr>\n",
              "      <th>Emily</th>\n",
              "      <td>3.6</td>\n",
              "      <td>4.6</td>\n",
              "      <td>5.5</td>\n",
              "      <td>3.1</td>\n",
              "      <td>F</td>\n",
              "      <td>4.2</td>\n",
              "      <td>Not approved</td>\n",
              "    </tr>\n",
              "    <tr>\n",
              "      <th>Fabio</th>\n",
              "      <td>3.2</td>\n",
              "      <td>2.9</td>\n",
              "      <td>7.2</td>\n",
              "      <td>7.9</td>\n",
              "      <td>M</td>\n",
              "      <td>5.3</td>\n",
              "      <td>Not approved</td>\n",
              "    </tr>\n",
              "    <tr>\n",
              "      <th>Gisele</th>\n",
              "      <td>8.6</td>\n",
              "      <td>4.9</td>\n",
              "      <td>6.2</td>\n",
              "      <td>8.7</td>\n",
              "      <td>F</td>\n",
              "      <td>7.1</td>\n",
              "      <td>Approved</td>\n",
              "    </tr>\n",
              "  </tbody>\n",
              "</table>\n",
              "</div>"
            ],
            "text/plain": [
              "         E1   E2   E3   E4 Gender   AG        Status\n",
              "Alice   5.1  7.5  7.5  2.0      F  5.5  Not approved\n",
              "Bruno   4.3  4.7  2.3  2.6      M  3.5  Not approved\n",
              "Carla   7.2  4.9  5.5  5.4      F  5.8  Not approved\n",
              "David   4.0  8.3  7.0  7.5      M  6.7      Approved\n",
              "Emily   3.6  4.6  5.5  3.1      F  4.2  Not approved\n",
              "Fabio   3.2  2.9  7.2  7.9      M  5.3  Not approved\n",
              "Gisele  8.6  4.9  6.2  8.7      F  7.1      Approved"
            ]
          },
          "metadata": {
            "tags": []
          },
          "execution_count": 37
        }
      ]
    },
    {
      "cell_type": "code",
      "metadata": {
        "colab": {
          "base_uri": "https://localhost:8080/",
          "height": 266
        },
        "id": "m9N1nbeX6ITl",
        "outputId": "c70bc0c6-2064-4551-b7a0-2e6d67d49cc2"
      },
      "source": [
        "# Sort a column: \n",
        "\n",
        "grades.sort_values(by = 'AG', ascending= False)"
      ],
      "execution_count": null,
      "outputs": [
        {
          "output_type": "execute_result",
          "data": {
            "text/html": [
              "<div>\n",
              "<style scoped>\n",
              "    .dataframe tbody tr th:only-of-type {\n",
              "        vertical-align: middle;\n",
              "    }\n",
              "\n",
              "    .dataframe tbody tr th {\n",
              "        vertical-align: top;\n",
              "    }\n",
              "\n",
              "    .dataframe thead th {\n",
              "        text-align: right;\n",
              "    }\n",
              "</style>\n",
              "<table border=\"1\" class=\"dataframe\">\n",
              "  <thead>\n",
              "    <tr style=\"text-align: right;\">\n",
              "      <th></th>\n",
              "      <th>E1</th>\n",
              "      <th>E2</th>\n",
              "      <th>E3</th>\n",
              "      <th>E4</th>\n",
              "      <th>Gender</th>\n",
              "      <th>AG</th>\n",
              "      <th>Status</th>\n",
              "    </tr>\n",
              "  </thead>\n",
              "  <tbody>\n",
              "    <tr>\n",
              "      <th>Gisele</th>\n",
              "      <td>8.6</td>\n",
              "      <td>4.9</td>\n",
              "      <td>6.2</td>\n",
              "      <td>8.7</td>\n",
              "      <td>F</td>\n",
              "      <td>7.1</td>\n",
              "      <td>Approved</td>\n",
              "    </tr>\n",
              "    <tr>\n",
              "      <th>David</th>\n",
              "      <td>4.0</td>\n",
              "      <td>8.3</td>\n",
              "      <td>7.0</td>\n",
              "      <td>7.5</td>\n",
              "      <td>M</td>\n",
              "      <td>6.7</td>\n",
              "      <td>Approved</td>\n",
              "    </tr>\n",
              "    <tr>\n",
              "      <th>Carla</th>\n",
              "      <td>7.2</td>\n",
              "      <td>4.9</td>\n",
              "      <td>5.5</td>\n",
              "      <td>5.4</td>\n",
              "      <td>F</td>\n",
              "      <td>5.8</td>\n",
              "      <td>Not approved</td>\n",
              "    </tr>\n",
              "    <tr>\n",
              "      <th>Alice</th>\n",
              "      <td>5.1</td>\n",
              "      <td>7.5</td>\n",
              "      <td>7.5</td>\n",
              "      <td>2.0</td>\n",
              "      <td>F</td>\n",
              "      <td>5.5</td>\n",
              "      <td>Not approved</td>\n",
              "    </tr>\n",
              "    <tr>\n",
              "      <th>Fabio</th>\n",
              "      <td>3.2</td>\n",
              "      <td>2.9</td>\n",
              "      <td>7.2</td>\n",
              "      <td>7.9</td>\n",
              "      <td>M</td>\n",
              "      <td>5.3</td>\n",
              "      <td>Not approved</td>\n",
              "    </tr>\n",
              "    <tr>\n",
              "      <th>Emily</th>\n",
              "      <td>3.6</td>\n",
              "      <td>4.6</td>\n",
              "      <td>5.5</td>\n",
              "      <td>3.1</td>\n",
              "      <td>F</td>\n",
              "      <td>4.2</td>\n",
              "      <td>Not approved</td>\n",
              "    </tr>\n",
              "    <tr>\n",
              "      <th>Bruno</th>\n",
              "      <td>4.3</td>\n",
              "      <td>4.7</td>\n",
              "      <td>2.3</td>\n",
              "      <td>2.6</td>\n",
              "      <td>M</td>\n",
              "      <td>3.5</td>\n",
              "      <td>Not approved</td>\n",
              "    </tr>\n",
              "  </tbody>\n",
              "</table>\n",
              "</div>"
            ],
            "text/plain": [
              "         E1   E2   E3   E4 Gender   AG        Status\n",
              "Gisele  8.6  4.9  6.2  8.7      F  7.1      Approved\n",
              "David   4.0  8.3  7.0  7.5      M  6.7      Approved\n",
              "Carla   7.2  4.9  5.5  5.4      F  5.8  Not approved\n",
              "Alice   5.1  7.5  7.5  2.0      F  5.5  Not approved\n",
              "Fabio   3.2  2.9  7.2  7.9      M  5.3  Not approved\n",
              "Emily   3.6  4.6  5.5  3.1      F  4.2  Not approved\n",
              "Bruno   4.3  4.7  2.3  2.6      M  3.5  Not approved"
            ]
          },
          "metadata": {
            "tags": []
          },
          "execution_count": 38
        }
      ]
    },
    {
      "cell_type": "code",
      "metadata": {
        "colab": {
          "base_uri": "https://localhost:8080/",
          "height": 266
        },
        "id": "cXIIkR2RGPfH",
        "outputId": "09424344-4845-4825-aa39-9a4a8510fa7d"
      },
      "source": [
        "# Sort by more than one variable:\n",
        "\n",
        "grades.sort_values(by = ['E3', 'E4'], ascending= False)"
      ],
      "execution_count": null,
      "outputs": [
        {
          "output_type": "execute_result",
          "data": {
            "text/html": [
              "<div>\n",
              "<style scoped>\n",
              "    .dataframe tbody tr th:only-of-type {\n",
              "        vertical-align: middle;\n",
              "    }\n",
              "\n",
              "    .dataframe tbody tr th {\n",
              "        vertical-align: top;\n",
              "    }\n",
              "\n",
              "    .dataframe thead th {\n",
              "        text-align: right;\n",
              "    }\n",
              "</style>\n",
              "<table border=\"1\" class=\"dataframe\">\n",
              "  <thead>\n",
              "    <tr style=\"text-align: right;\">\n",
              "      <th></th>\n",
              "      <th>E1</th>\n",
              "      <th>E2</th>\n",
              "      <th>E3</th>\n",
              "      <th>E4</th>\n",
              "      <th>Gender</th>\n",
              "      <th>AG</th>\n",
              "      <th>Status</th>\n",
              "    </tr>\n",
              "  </thead>\n",
              "  <tbody>\n",
              "    <tr>\n",
              "      <th>Alice</th>\n",
              "      <td>5.1</td>\n",
              "      <td>7.5</td>\n",
              "      <td>7.5</td>\n",
              "      <td>2.0</td>\n",
              "      <td>F</td>\n",
              "      <td>5.5</td>\n",
              "      <td>Not approved</td>\n",
              "    </tr>\n",
              "    <tr>\n",
              "      <th>Fabio</th>\n",
              "      <td>3.2</td>\n",
              "      <td>2.9</td>\n",
              "      <td>7.2</td>\n",
              "      <td>7.9</td>\n",
              "      <td>M</td>\n",
              "      <td>5.3</td>\n",
              "      <td>Not approved</td>\n",
              "    </tr>\n",
              "    <tr>\n",
              "      <th>David</th>\n",
              "      <td>4.0</td>\n",
              "      <td>8.3</td>\n",
              "      <td>7.0</td>\n",
              "      <td>7.5</td>\n",
              "      <td>M</td>\n",
              "      <td>6.7</td>\n",
              "      <td>Approved</td>\n",
              "    </tr>\n",
              "    <tr>\n",
              "      <th>Gisele</th>\n",
              "      <td>8.6</td>\n",
              "      <td>4.9</td>\n",
              "      <td>6.2</td>\n",
              "      <td>8.7</td>\n",
              "      <td>F</td>\n",
              "      <td>7.1</td>\n",
              "      <td>Approved</td>\n",
              "    </tr>\n",
              "    <tr>\n",
              "      <th>Carla</th>\n",
              "      <td>7.2</td>\n",
              "      <td>4.9</td>\n",
              "      <td>5.5</td>\n",
              "      <td>5.4</td>\n",
              "      <td>F</td>\n",
              "      <td>5.8</td>\n",
              "      <td>Not approved</td>\n",
              "    </tr>\n",
              "    <tr>\n",
              "      <th>Emily</th>\n",
              "      <td>3.6</td>\n",
              "      <td>4.6</td>\n",
              "      <td>5.5</td>\n",
              "      <td>3.1</td>\n",
              "      <td>F</td>\n",
              "      <td>4.2</td>\n",
              "      <td>Not approved</td>\n",
              "    </tr>\n",
              "    <tr>\n",
              "      <th>Bruno</th>\n",
              "      <td>4.3</td>\n",
              "      <td>4.7</td>\n",
              "      <td>2.3</td>\n",
              "      <td>2.6</td>\n",
              "      <td>M</td>\n",
              "      <td>3.5</td>\n",
              "      <td>Not approved</td>\n",
              "    </tr>\n",
              "  </tbody>\n",
              "</table>\n",
              "</div>"
            ],
            "text/plain": [
              "         E1   E2   E3   E4 Gender   AG        Status\n",
              "Alice   5.1  7.5  7.5  2.0      F  5.5  Not approved\n",
              "Fabio   3.2  2.9  7.2  7.9      M  5.3  Not approved\n",
              "David   4.0  8.3  7.0  7.5      M  6.7      Approved\n",
              "Gisele  8.6  4.9  6.2  8.7      F  7.1      Approved\n",
              "Carla   7.2  4.9  5.5  5.4      F  5.8  Not approved\n",
              "Emily   3.6  4.6  5.5  3.1      F  4.2  Not approved\n",
              "Bruno   4.3  4.7  2.3  2.6      M  3.5  Not approved"
            ]
          },
          "metadata": {
            "tags": []
          },
          "execution_count": 39
        }
      ]
    },
    {
      "cell_type": "code",
      "metadata": {
        "colab": {
          "base_uri": "https://localhost:8080/"
        },
        "id": "OO--Tk2RGpgV",
        "outputId": "cb9a5575-b4d1-46a0-c3c1-aa38b75cf560"
      },
      "source": [
        "# Average grade by gender (group):\n",
        "\n",
        "## Average grade for women:\n",
        "\n",
        "grades[grades['Gender'] == 'F']['AG'].mean()"
      ],
      "execution_count": null,
      "outputs": [
        {
          "output_type": "execute_result",
          "data": {
            "text/plain": [
              "5.65"
            ]
          },
          "metadata": {
            "tags": []
          },
          "execution_count": 44
        }
      ]
    },
    {
      "cell_type": "code",
      "metadata": {
        "colab": {
          "base_uri": "https://localhost:8080/"
        },
        "id": "ua8DnrxDHyJu",
        "outputId": "61cbafba-59b0-41c0-8531-588550a3ddf3"
      },
      "source": [
        "# Average grade by gender (group):\n",
        "\n",
        "# Average grade for men:\n",
        "\n",
        "grades[grades['Gender'] == 'M']['AG'].mean()"
      ],
      "execution_count": null,
      "outputs": [
        {
          "output_type": "execute_result",
          "data": {
            "text/plain": [
              "5.166666666666667"
            ]
          },
          "metadata": {
            "tags": []
          },
          "execution_count": 45
        }
      ]
    },
    {
      "cell_type": "code",
      "metadata": {
        "colab": {
          "base_uri": "https://localhost:8080/",
          "height": 142
        },
        "id": "8WrJUCzCImtg",
        "outputId": "1e1aba64-2446-4dc3-e93e-2fac27e834df"
      },
      "source": [
        "# compare grades by groups:\n",
        "\n",
        "grades.groupby(grades['Gender']).mean()"
      ],
      "execution_count": null,
      "outputs": [
        {
          "output_type": "execute_result",
          "data": {
            "text/html": [
              "<div>\n",
              "<style scoped>\n",
              "    .dataframe tbody tr th:only-of-type {\n",
              "        vertical-align: middle;\n",
              "    }\n",
              "\n",
              "    .dataframe tbody tr th {\n",
              "        vertical-align: top;\n",
              "    }\n",
              "\n",
              "    .dataframe thead th {\n",
              "        text-align: right;\n",
              "    }\n",
              "</style>\n",
              "<table border=\"1\" class=\"dataframe\">\n",
              "  <thead>\n",
              "    <tr style=\"text-align: right;\">\n",
              "      <th></th>\n",
              "      <th>E1</th>\n",
              "      <th>E2</th>\n",
              "      <th>E3</th>\n",
              "      <th>E4</th>\n",
              "      <th>AG</th>\n",
              "    </tr>\n",
              "    <tr>\n",
              "      <th>Gender</th>\n",
              "      <th></th>\n",
              "      <th></th>\n",
              "      <th></th>\n",
              "      <th></th>\n",
              "      <th></th>\n",
              "    </tr>\n",
              "  </thead>\n",
              "  <tbody>\n",
              "    <tr>\n",
              "      <th>F</th>\n",
              "      <td>6.125000</td>\n",
              "      <td>5.475</td>\n",
              "      <td>6.175</td>\n",
              "      <td>4.8</td>\n",
              "      <td>5.650000</td>\n",
              "    </tr>\n",
              "    <tr>\n",
              "      <th>M</th>\n",
              "      <td>3.833333</td>\n",
              "      <td>5.300</td>\n",
              "      <td>5.500</td>\n",
              "      <td>6.0</td>\n",
              "      <td>5.166667</td>\n",
              "    </tr>\n",
              "  </tbody>\n",
              "</table>\n",
              "</div>"
            ],
            "text/plain": [
              "              E1     E2     E3   E4        AG\n",
              "Gender                                       \n",
              "F       6.125000  5.475  6.175  4.8  5.650000\n",
              "M       3.833333  5.300  5.500  6.0  5.166667"
            ]
          },
          "metadata": {
            "tags": []
          },
          "execution_count": 46
        }
      ]
    },
    {
      "cell_type": "code",
      "metadata": {
        "colab": {
          "base_uri": "https://localhost:8080/",
          "height": 142
        },
        "id": "qtzuTV6HJOaY",
        "outputId": "040edcd8-afe9-44da-a064-9121a555c747"
      },
      "source": [
        "# compare grades by groups:\n",
        "\n",
        "grades.groupby(grades['Status']).mean()"
      ],
      "execution_count": null,
      "outputs": [
        {
          "output_type": "execute_result",
          "data": {
            "text/html": [
              "<div>\n",
              "<style scoped>\n",
              "    .dataframe tbody tr th:only-of-type {\n",
              "        vertical-align: middle;\n",
              "    }\n",
              "\n",
              "    .dataframe tbody tr th {\n",
              "        vertical-align: top;\n",
              "    }\n",
              "\n",
              "    .dataframe thead th {\n",
              "        text-align: right;\n",
              "    }\n",
              "</style>\n",
              "<table border=\"1\" class=\"dataframe\">\n",
              "  <thead>\n",
              "    <tr style=\"text-align: right;\">\n",
              "      <th></th>\n",
              "      <th>E1</th>\n",
              "      <th>E2</th>\n",
              "      <th>E3</th>\n",
              "      <th>E4</th>\n",
              "      <th>AG</th>\n",
              "    </tr>\n",
              "    <tr>\n",
              "      <th>Status</th>\n",
              "      <th></th>\n",
              "      <th></th>\n",
              "      <th></th>\n",
              "      <th></th>\n",
              "      <th></th>\n",
              "    </tr>\n",
              "  </thead>\n",
              "  <tbody>\n",
              "    <tr>\n",
              "      <th>Approved</th>\n",
              "      <td>6.30</td>\n",
              "      <td>6.60</td>\n",
              "      <td>6.6</td>\n",
              "      <td>8.1</td>\n",
              "      <td>6.90</td>\n",
              "    </tr>\n",
              "    <tr>\n",
              "      <th>Not approved</th>\n",
              "      <td>4.68</td>\n",
              "      <td>4.92</td>\n",
              "      <td>5.6</td>\n",
              "      <td>4.2</td>\n",
              "      <td>4.86</td>\n",
              "    </tr>\n",
              "  </tbody>\n",
              "</table>\n",
              "</div>"
            ],
            "text/plain": [
              "                E1    E2   E3   E4    AG\n",
              "Status                                  \n",
              "Approved      6.30  6.60  6.6  8.1  6.90\n",
              "Not approved  4.68  4.92  5.6  4.2  4.86"
            ]
          },
          "metadata": {
            "tags": []
          },
          "execution_count": 47
        }
      ]
    },
    {
      "cell_type": "code",
      "metadata": {
        "colab": {
          "base_uri": "https://localhost:8080/",
          "height": 1000
        },
        "id": "KSYaKtKdJTij",
        "outputId": "03e9ed14-dff3-44dd-9d32-7995e5cccb3c"
      },
      "source": [
        "# Descriptive analysis by group:\n",
        "\n",
        "grades.groupby(grades['Status']).describe().transpose()"
      ],
      "execution_count": null,
      "outputs": [
        {
          "output_type": "execute_result",
          "data": {
            "text/html": [
              "<div>\n",
              "<style scoped>\n",
              "    .dataframe tbody tr th:only-of-type {\n",
              "        vertical-align: middle;\n",
              "    }\n",
              "\n",
              "    .dataframe tbody tr th {\n",
              "        vertical-align: top;\n",
              "    }\n",
              "\n",
              "    .dataframe thead th {\n",
              "        text-align: right;\n",
              "    }\n",
              "</style>\n",
              "<table border=\"1\" class=\"dataframe\">\n",
              "  <thead>\n",
              "    <tr style=\"text-align: right;\">\n",
              "      <th></th>\n",
              "      <th>Status</th>\n",
              "      <th>Approved</th>\n",
              "      <th>Not approved</th>\n",
              "    </tr>\n",
              "  </thead>\n",
              "  <tbody>\n",
              "    <tr>\n",
              "      <th rowspan=\"8\" valign=\"top\">E1</th>\n",
              "      <th>count</th>\n",
              "      <td>2.000000</td>\n",
              "      <td>5.000000</td>\n",
              "    </tr>\n",
              "    <tr>\n",
              "      <th>mean</th>\n",
              "      <td>6.300000</td>\n",
              "      <td>4.680000</td>\n",
              "    </tr>\n",
              "    <tr>\n",
              "      <th>std</th>\n",
              "      <td>3.252691</td>\n",
              "      <td>1.583351</td>\n",
              "    </tr>\n",
              "    <tr>\n",
              "      <th>min</th>\n",
              "      <td>4.000000</td>\n",
              "      <td>3.200000</td>\n",
              "    </tr>\n",
              "    <tr>\n",
              "      <th>25%</th>\n",
              "      <td>5.150000</td>\n",
              "      <td>3.600000</td>\n",
              "    </tr>\n",
              "    <tr>\n",
              "      <th>50%</th>\n",
              "      <td>6.300000</td>\n",
              "      <td>4.300000</td>\n",
              "    </tr>\n",
              "    <tr>\n",
              "      <th>75%</th>\n",
              "      <td>7.450000</td>\n",
              "      <td>5.100000</td>\n",
              "    </tr>\n",
              "    <tr>\n",
              "      <th>max</th>\n",
              "      <td>8.600000</td>\n",
              "      <td>7.200000</td>\n",
              "    </tr>\n",
              "    <tr>\n",
              "      <th rowspan=\"8\" valign=\"top\">E2</th>\n",
              "      <th>count</th>\n",
              "      <td>2.000000</td>\n",
              "      <td>5.000000</td>\n",
              "    </tr>\n",
              "    <tr>\n",
              "      <th>mean</th>\n",
              "      <td>6.600000</td>\n",
              "      <td>4.920000</td>\n",
              "    </tr>\n",
              "    <tr>\n",
              "      <th>std</th>\n",
              "      <td>2.404163</td>\n",
              "      <td>1.649848</td>\n",
              "    </tr>\n",
              "    <tr>\n",
              "      <th>min</th>\n",
              "      <td>4.900000</td>\n",
              "      <td>2.900000</td>\n",
              "    </tr>\n",
              "    <tr>\n",
              "      <th>25%</th>\n",
              "      <td>5.750000</td>\n",
              "      <td>4.600000</td>\n",
              "    </tr>\n",
              "    <tr>\n",
              "      <th>50%</th>\n",
              "      <td>6.600000</td>\n",
              "      <td>4.700000</td>\n",
              "    </tr>\n",
              "    <tr>\n",
              "      <th>75%</th>\n",
              "      <td>7.450000</td>\n",
              "      <td>4.900000</td>\n",
              "    </tr>\n",
              "    <tr>\n",
              "      <th>max</th>\n",
              "      <td>8.300000</td>\n",
              "      <td>7.500000</td>\n",
              "    </tr>\n",
              "    <tr>\n",
              "      <th rowspan=\"8\" valign=\"top\">E3</th>\n",
              "      <th>count</th>\n",
              "      <td>2.000000</td>\n",
              "      <td>5.000000</td>\n",
              "    </tr>\n",
              "    <tr>\n",
              "      <th>mean</th>\n",
              "      <td>6.600000</td>\n",
              "      <td>5.600000</td>\n",
              "    </tr>\n",
              "    <tr>\n",
              "      <th>std</th>\n",
              "      <td>0.565685</td>\n",
              "      <td>2.066398</td>\n",
              "    </tr>\n",
              "    <tr>\n",
              "      <th>min</th>\n",
              "      <td>6.200000</td>\n",
              "      <td>2.300000</td>\n",
              "    </tr>\n",
              "    <tr>\n",
              "      <th>25%</th>\n",
              "      <td>6.400000</td>\n",
              "      <td>5.500000</td>\n",
              "    </tr>\n",
              "    <tr>\n",
              "      <th>50%</th>\n",
              "      <td>6.600000</td>\n",
              "      <td>5.500000</td>\n",
              "    </tr>\n",
              "    <tr>\n",
              "      <th>75%</th>\n",
              "      <td>6.800000</td>\n",
              "      <td>7.200000</td>\n",
              "    </tr>\n",
              "    <tr>\n",
              "      <th>max</th>\n",
              "      <td>7.000000</td>\n",
              "      <td>7.500000</td>\n",
              "    </tr>\n",
              "    <tr>\n",
              "      <th rowspan=\"8\" valign=\"top\">E4</th>\n",
              "      <th>count</th>\n",
              "      <td>2.000000</td>\n",
              "      <td>5.000000</td>\n",
              "    </tr>\n",
              "    <tr>\n",
              "      <th>mean</th>\n",
              "      <td>8.100000</td>\n",
              "      <td>4.200000</td>\n",
              "    </tr>\n",
              "    <tr>\n",
              "      <th>std</th>\n",
              "      <td>0.848528</td>\n",
              "      <td>2.436186</td>\n",
              "    </tr>\n",
              "    <tr>\n",
              "      <th>min</th>\n",
              "      <td>7.500000</td>\n",
              "      <td>2.000000</td>\n",
              "    </tr>\n",
              "    <tr>\n",
              "      <th>25%</th>\n",
              "      <td>7.800000</td>\n",
              "      <td>2.600000</td>\n",
              "    </tr>\n",
              "    <tr>\n",
              "      <th>50%</th>\n",
              "      <td>8.100000</td>\n",
              "      <td>3.100000</td>\n",
              "    </tr>\n",
              "    <tr>\n",
              "      <th>75%</th>\n",
              "      <td>8.400000</td>\n",
              "      <td>5.400000</td>\n",
              "    </tr>\n",
              "    <tr>\n",
              "      <th>max</th>\n",
              "      <td>8.700000</td>\n",
              "      <td>7.900000</td>\n",
              "    </tr>\n",
              "    <tr>\n",
              "      <th rowspan=\"8\" valign=\"top\">AG</th>\n",
              "      <th>count</th>\n",
              "      <td>2.000000</td>\n",
              "      <td>5.000000</td>\n",
              "    </tr>\n",
              "    <tr>\n",
              "      <th>mean</th>\n",
              "      <td>6.900000</td>\n",
              "      <td>4.860000</td>\n",
              "    </tr>\n",
              "    <tr>\n",
              "      <th>std</th>\n",
              "      <td>0.282843</td>\n",
              "      <td>0.971082</td>\n",
              "    </tr>\n",
              "    <tr>\n",
              "      <th>min</th>\n",
              "      <td>6.700000</td>\n",
              "      <td>3.500000</td>\n",
              "    </tr>\n",
              "    <tr>\n",
              "      <th>25%</th>\n",
              "      <td>6.800000</td>\n",
              "      <td>4.200000</td>\n",
              "    </tr>\n",
              "    <tr>\n",
              "      <th>50%</th>\n",
              "      <td>6.900000</td>\n",
              "      <td>5.300000</td>\n",
              "    </tr>\n",
              "    <tr>\n",
              "      <th>75%</th>\n",
              "      <td>7.000000</td>\n",
              "      <td>5.500000</td>\n",
              "    </tr>\n",
              "    <tr>\n",
              "      <th>max</th>\n",
              "      <td>7.100000</td>\n",
              "      <td>5.800000</td>\n",
              "    </tr>\n",
              "  </tbody>\n",
              "</table>\n",
              "</div>"
            ],
            "text/plain": [
              "Status    Approved  Not approved\n",
              "E1 count  2.000000      5.000000\n",
              "   mean   6.300000      4.680000\n",
              "   std    3.252691      1.583351\n",
              "   min    4.000000      3.200000\n",
              "   25%    5.150000      3.600000\n",
              "   50%    6.300000      4.300000\n",
              "   75%    7.450000      5.100000\n",
              "   max    8.600000      7.200000\n",
              "E2 count  2.000000      5.000000\n",
              "   mean   6.600000      4.920000\n",
              "   std    2.404163      1.649848\n",
              "   min    4.900000      2.900000\n",
              "   25%    5.750000      4.600000\n",
              "   50%    6.600000      4.700000\n",
              "   75%    7.450000      4.900000\n",
              "   max    8.300000      7.500000\n",
              "E3 count  2.000000      5.000000\n",
              "   mean   6.600000      5.600000\n",
              "   std    0.565685      2.066398\n",
              "   min    6.200000      2.300000\n",
              "   25%    6.400000      5.500000\n",
              "   50%    6.600000      5.500000\n",
              "   75%    6.800000      7.200000\n",
              "   max    7.000000      7.500000\n",
              "E4 count  2.000000      5.000000\n",
              "   mean   8.100000      4.200000\n",
              "   std    0.848528      2.436186\n",
              "   min    7.500000      2.000000\n",
              "   25%    7.800000      2.600000\n",
              "   50%    8.100000      3.100000\n",
              "   75%    8.400000      5.400000\n",
              "   max    8.700000      7.900000\n",
              "AG count  2.000000      5.000000\n",
              "   mean   6.900000      4.860000\n",
              "   std    0.282843      0.971082\n",
              "   min    6.700000      3.500000\n",
              "   25%    6.800000      4.200000\n",
              "   50%    6.900000      5.300000\n",
              "   75%    7.000000      5.500000\n",
              "   max    7.100000      5.800000"
            ]
          },
          "metadata": {
            "tags": []
          },
          "execution_count": 48
        }
      ]
    },
    {
      "cell_type": "code",
      "metadata": {
        "colab": {
          "base_uri": "https://localhost:8080/",
          "height": 265
        },
        "id": "a8lsYNCFKRd8",
        "outputId": "999976a1-83a8-41a9-e3de-07a1117c8380"
      },
      "source": [
        "# plot showing grades by gender:\n",
        " \n",
        "grades['AG'].groupby(grades['Gender']).mean().plot(kind = 'barh');"
      ],
      "execution_count": null,
      "outputs": [
        {
          "output_type": "display_data",
          "data": {
            "image/png": "[encoded data removed]",
            "text/plain": [
              "<Figure size 432x288 with 1 Axes>"
            ]
          },
          "metadata": {
            "tags": [],
            "needs_background": "light"
          }
        }
      ]
    },
    {
      "cell_type": "code",
      "metadata": {
        "colab": {
          "base_uri": "https://localhost:8080/",
          "height": 268
        },
        "id": "0OAPrqNeOWbY",
        "outputId": "b1db581b-4161-4974-e271-64de5f4aa247"
      },
      "source": [
        "# boxplot:\n",
        "\n",
        "grades[columns].T.plot(kind = 'box');"
      ],
      "execution_count": null,
      "outputs": [
        {
          "output_type": "display_data",
          "data": {
            "image/png": "[encoded data removed]",
            "text/plain": [
              "<Figure size 432x288 with 1 Axes>"
            ]
          },
          "metadata": {
            "tags": [],
            "needs_background": "light"
          }
        }
      ]
    },
    {
      "cell_type": "code",
      "metadata": {
        "id": "uQa8pT7lCofB"
      },
      "source": [
        "# Checking the function 'loc' again:\n",
        "\n",
        "grades.loc['Carla', 'AG']"
      ],
      "execution_count": null,
      "outputs": []
    },
    {
      "cell_type": "code",
      "metadata": {
        "id": "QSYwQrG3CovI"
      },
      "source": [
        "# Checking the function 'iloc' again:\n",
        "\n",
        "grades.iloc[: , [1, 3, 5]]"
      ],
      "execution_count": null,
      "outputs": []
    },
    {
      "cell_type": "markdown",
      "metadata": {
        "id": "65RQEzApCHAK"
      },
      "source": [
        "### Example of histogram:"
      ]
    },
    {
      "cell_type": "code",
      "metadata": {
        "id": "eKUNvGD7QJVg"
      },
      "source": [
        "# Assinging the range and the size:\n",
        "\n",
        "x = np.random.normal(2, 9, 15000)"
      ],
      "execution_count": null,
      "outputs": []
    },
    {
      "cell_type": "code",
      "metadata": {
        "colab": {
          "base_uri": "https://localhost:8080/",
          "height": 265
        },
        "id": "S_wE0BCbQU3C",
        "outputId": "591a6382-c007-4e36-fe7f-e33cb217388f"
      },
      "source": [
        "# Plot the histogram:\n",
        "\n",
        "pd.DataFrame(x).plot(kind = 'hist', edgecolor = 'black', bins = 20);"
      ],
      "execution_count": null,
      "outputs": [
        {
          "output_type": "display_data",
          "data": {
            "image/png": "[encoded data removed]",
            "text/plain": [
              "<Figure size 432x288 with 1 Axes>"
            ]
          },
          "metadata": {
            "tags": [],
            "needs_background": "light"
          }
        }
      ]
    }
  ]
}