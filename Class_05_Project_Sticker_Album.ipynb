{
  "nbformat": 4,
  "nbformat_minor": 0,
  "metadata": {
    "colab": {
      "name": "Class_05_Project_Sticker_Album.ipynb",
      "provenance": [],
      "authorship_tag": "ABX9TyN6F4OpFlca0ADlqZ9S68VT",
      "include_colab_link": true
    },
    "kernelspec": {
      "name": "python3",
      "display_name": "Python 3"
    },
    "language_info": {
      "name": "python"
    }
  },
  "cells": [
    {
      "cell_type": "markdown",
      "metadata": {
        "id": "view-in-github",
        "colab_type": "text"
      },
      "source": [
        "<a href=\"https://colab.research.google.com/github/ThiagoBalbo16/Course-Dominando-Data-Science-DDS4-FLAI/blob/main/Class_05_Project_Sticker_Album.ipynb\" target=\"_parent\"><img src=\"https://colab.research.google.com/assets/colab-badge.svg\" alt=\"Open In Colab\"/></a>"
      ]
    },
    {
      "cell_type": "markdown",
      "metadata": {
        "id": "4Bz4ddtiJASd"
      },
      "source": [
        "Course: Curso Dominando Data Science [FLAI] \\\\\n",
        "Description: Python for beginners: building your first project \\\\\n",
        "Devoloped by: FLAI \\\\\n",
        "Adapted by:  Thiago Balbo Batista  \\\\\n",
        "Year: 2021"
      ]
    },
    {
      "cell_type": "markdown",
      "metadata": {
        "id": "gqf4TBKHQAwt"
      },
      "source": [
        "## Basic Python Programming Language:"
      ]
    },
    {
      "cell_type": "code",
      "metadata": {
        "colab": {
          "base_uri": "https://localhost:8080/"
        },
        "id": "zzMiSQ10KGYs",
        "outputId": "191433be-7830-4204-cae1-bef5f4911188"
      },
      "source": [
        "# The first step:\n",
        "\n",
        "print('Hello World!')"
      ],
      "execution_count": null,
      "outputs": [
        {
          "output_type": "stream",
          "text": [
            "Hello World!\n"
          ],
          "name": "stdout"
        }
      ]
    },
    {
      "cell_type": "markdown",
      "metadata": {
        "id": "pIk5mvIlSa4S"
      },
      "source": [
        "### Objects attributes:"
      ]
    },
    {
      "cell_type": "code",
      "metadata": {
        "colab": {
          "base_uri": "https://localhost:8080/"
        },
        "id": "MIfz_sFeSFDM",
        "outputId": "8525cf64-3810-4a41-aeed-783e7bbc22dc"
      },
      "source": [
        "My_name = 'Thiago'\n",
        "Age = 28\n",
        "print('My name is', My_name, \"and I'm\", Age, 'years old!')"
      ],
      "execution_count": null,
      "outputs": [
        {
          "output_type": "stream",
          "text": [
            "My name is Thiago and I'm 28 years old!\n"
          ],
          "name": "stdout"
        }
      ]
    },
    {
      "cell_type": "markdown",
      "metadata": {
        "id": "p_tnRYBjSiCy"
      },
      "source": [
        "### Operators:"
      ]
    },
    {
      "cell_type": "code",
      "metadata": {
        "colab": {
          "base_uri": "https://localhost:8080/"
        },
        "id": "MIKElDotUbhL",
        "outputId": "32982ef8-92a9-4204-df6e-454e6f713a36"
      },
      "source": [
        "a = 3\n",
        "b = 5\n",
        "\n",
        "print('Sum:', a + b)\n",
        "print('Subtraction:', a - b)\n",
        "print('Division:', a / b)\n",
        "print('Multiplication:', a * b)\n",
        "print('Exponentiation:', a ** b)\n",
        "print('Remainder of a division:', b % a)\n",
        "print('The integer of a division:', b // a)"
      ],
      "execution_count": null,
      "outputs": [
        {
          "output_type": "stream",
          "text": [
            "Sum: 8\n",
            "Subtraction: -2\n",
            "Division: 0.6\n",
            "Multiplication: 15\n",
            "Exponentiation: 243\n",
            "Remainder of a division: 2\n",
            "The integer of a division: 1\n"
          ],
          "name": "stdout"
        }
      ]
    },
    {
      "cell_type": "markdown",
      "metadata": {
        "id": "2SDWZ85VSwgy"
      },
      "source": [
        "### Booleans:"
      ]
    },
    {
      "cell_type": "code",
      "metadata": {
        "colab": {
          "base_uri": "https://localhost:8080/"
        },
        "id": "czMDqOXHWq8r",
        "outputId": "68af1e13-7d77-48cb-9d96-faeeda6b52a0"
      },
      "source": [
        "# Booleans:\n",
        "\n",
        "print(True and False)\n",
        "print(True or False)\n",
        "print(not True)\n",
        "print(not False)\n",
        "\n",
        "## Examples:\n",
        "\n",
        "print(a < b)\n",
        "print((a < b) or (a == b))\n",
        "print((a <= b) or (a == b))\n",
        "print((a <= b) and (a == b))\n",
        "print(a != b)"
      ],
      "execution_count": null,
      "outputs": [
        {
          "output_type": "stream",
          "text": [
            "False\n",
            "True\n",
            "False\n",
            "True\n",
            "True\n",
            "True\n",
            "True\n",
            "False\n",
            "True\n"
          ],
          "name": "stdout"
        }
      ]
    },
    {
      "cell_type": "markdown",
      "metadata": {
        "id": "PSIXEaZ1S4yi"
      },
      "source": [
        "### Conditional statements:"
      ]
    },
    {
      "cell_type": "code",
      "metadata": {
        "id": "zSRZTGpT6gSX",
        "colab": {
          "base_uri": "https://localhost:8080/"
        },
        "outputId": "c5df43aa-6c10-49f3-e2de-0e4e26b2788a"
      },
      "source": [
        "if a < b:\n",
        "  print('a is greater than b')\n",
        "else:\n",
        "  print('b is greater than a')\n",
        "\n",
        "## Quadratic equation example:\n",
        "\n",
        "a, b, c = 1, 2, -1\n",
        "\n",
        "delta = (b**2) - (4*a*c)\n",
        "\n",
        "delta\n",
        "\n",
        "if delta > 0:\n",
        "  x1 = round((-b + delta**(1/2))/(2*a),3)\n",
        "  x2 = round((-b - delta**(1/2))/(2*a),3)\n",
        "  print('The real roots are {} and {}.'.format(x1, x2))\n",
        "elif delta == 0:\n",
        "  x = round(-b / (2*a),3)\n",
        "  print('The real root is {}.'.format(x))\n",
        "else:\n",
        "  print('this equation do not have real roots.')"
      ],
      "execution_count": null,
      "outputs": [
        {
          "output_type": "stream",
          "text": [
            "a is greater than b\n",
            "The real roots are 0.414 and -2.414.\n"
          ],
          "name": "stdout"
        }
      ]
    },
    {
      "cell_type": "markdown",
      "metadata": {
        "id": "hzFeBqczTA-T"
      },
      "source": [
        "### Functions:"
      ]
    },
    {
      "cell_type": "code",
      "metadata": {
        "colab": {
          "base_uri": "https://localhost:8080/"
        },
        "id": "YJhUppiiKXu-",
        "outputId": "89dde8c5-4e46-4897-c08e-a89ff5321ac2"
      },
      "source": [
        "\n",
        "def myfunction(n_asterisks):\n",
        "  print('*' * n_asterisks)\n",
        "  print('       Thiago       ')\n",
        "  print('*' * n_asterisks)\n",
        "\n",
        "myfunction(n_asterisks = 20)\n"
      ],
      "execution_count": null,
      "outputs": [
        {
          "output_type": "stream",
          "text": [
            "********************\n",
            "       Thiago       \n",
            "********************\n"
          ],
          "name": "stdout"
        }
      ]
    },
    {
      "cell_type": "code",
      "metadata": {
        "colab": {
          "base_uri": "https://localhost:8080/"
        },
        "id": "M8qIvtJXRHdt",
        "outputId": "ebab9e23-cc70-4340-cea6-d32fcbd52ac0"
      },
      "source": [
        "## Another example with the quadratic function:\n",
        "\n",
        "def baskhara(a, b, c):\n",
        "\n",
        "  delta = (b**2) - (4*a*c)\n",
        "\n",
        "  delta\n",
        "\n",
        "  if delta > 0:\n",
        "    x1 = round((-b + delta**(1/2))/(2*a),3)\n",
        "    x2 = round((-b - delta**(1/2))/(2*a),3)\n",
        "    print('The real roots are {} and {}.'.format(x1, x2))\n",
        "  elif delta == 0:\n",
        "    x = round(-b / (2*a),3)\n",
        "    print('The real root is {}.'.format(x))\n",
        "  else:\n",
        "    print('this equation do not have real roots.')\n",
        "\n",
        "baskhara(a = 1, b = 2, c = 3)"
      ],
      "execution_count": null,
      "outputs": [
        {
          "output_type": "stream",
          "text": [
            "this equation do not have real roots.\n"
          ],
          "name": "stdout"
        }
      ]
    },
    {
      "cell_type": "markdown",
      "metadata": {
        "id": "upqhRdlLTKSz"
      },
      "source": [
        "### Lists:"
      ]
    },
    {
      "cell_type": "code",
      "metadata": {
        "colab": {
          "base_uri": "https://localhost:8080/"
        },
        "id": "2GII1DydTMar",
        "outputId": "b451bd72-6388-4b9b-83bd-c5b6b719ebb4"
      },
      "source": [
        "list_ = ['Thiago', 28, baskhara]\n",
        "\n",
        "list_[2](a = 1, b = 2, c = 3)"
      ],
      "execution_count": null,
      "outputs": [
        {
          "output_type": "stream",
          "text": [
            "this equation do not have real roots.\n"
          ],
          "name": "stdout"
        }
      ]
    },
    {
      "cell_type": "code",
      "metadata": {
        "colab": {
          "base_uri": "https://localhost:8080/"
        },
        "id": "HWKWTIxPYeD6",
        "outputId": "3ae025a8-52e0-4fdb-cee5-139adf7f411f"
      },
      "source": [
        "list_= [[1, 3, 5, 8]]\n",
        "\n",
        "list_[0][2]"
      ],
      "execution_count": null,
      "outputs": [
        {
          "output_type": "execute_result",
          "data": {
            "text/plain": [
              "5"
            ]
          },
          "metadata": {
            "tags": []
          },
          "execution_count": 16
        }
      ]
    },
    {
      "cell_type": "code",
      "metadata": {
        "colab": {
          "base_uri": "https://localhost:8080/"
        },
        "id": "_NxgO1I3Y0oJ",
        "outputId": "cfff17f1-8bba-44fe-baa6-0b372452ff74"
      },
      "source": [
        "## the function 'list' in objects type 'string':\n",
        "\n",
        "list2 =  list('Thiago')\n",
        "\n",
        "print(list2)\n",
        "\n",
        "print(list2[0])\n",
        "\n",
        "print(list2[:2])\n"
      ],
      "execution_count": null,
      "outputs": [
        {
          "output_type": "stream",
          "text": [
            "['T', 'h', 'i', 'a', 'g', 'o']\n",
            "T\n",
            "['T', 'h']\n"
          ],
          "name": "stdout"
        }
      ]
    },
    {
      "cell_type": "markdown",
      "metadata": {
        "id": "Sk8G8fwCnonT"
      },
      "source": [
        "\n",
        "\n",
        "```\n",
        "# Isto está formatado como código\n",
        "```\n",
        "\n",
        "### Importing libraries"
      ]
    },
    {
      "cell_type": "code",
      "metadata": {
        "colab": {
          "base_uri": "https://localhost:8080/"
        },
        "id": "pFVGsgKunz6U",
        "outputId": "5f3b900e-3ad8-4414-84fe-15d64836bd5c"
      },
      "source": [
        "# example\n",
        "\n",
        "from math import pi, sqrt\n",
        "\n",
        "print(pi)\n",
        "\n",
        "print(sqrt(5))"
      ],
      "execution_count": null,
      "outputs": [
        {
          "output_type": "stream",
          "text": [
            "3.141592653589793\n",
            "2.23606797749979\n"
          ],
          "name": "stdout"
        }
      ]
    },
    {
      "cell_type": "code",
      "metadata": {
        "colab": {
          "base_uri": "https://localhost:8080/"
        },
        "id": "C1qfw5FDokG7",
        "outputId": "ba54ec9a-f8ff-4e15-faf2-444e9470e361"
      },
      "source": [
        "#example\n",
        "\n",
        "import math as m\n",
        "\n",
        "print(m.floor(2.3))\n",
        "print(m.ceil(2.3))\n",
        " "
      ],
      "execution_count": null,
      "outputs": [
        {
          "output_type": "stream",
          "text": [
            "2\n",
            "3\n"
          ],
          "name": "stdout"
        }
      ]
    },
    {
      "cell_type": "markdown",
      "metadata": {
        "id": "r_EoRcxBpK8t"
      },
      "source": [
        "### Numpy"
      ]
    },
    {
      "cell_type": "code",
      "metadata": {
        "id": "bscm36J2pM3A",
        "colab": {
          "base_uri": "https://localhost:8080/"
        },
        "outputId": "f1ff1011-8cfd-433c-b1b9-ef1d1a397401"
      },
      "source": [
        "# building a vector:\n",
        "\n",
        "import numpy as np\n",
        "\n",
        "np.array([1, 2, 3, 4])"
      ],
      "execution_count": null,
      "outputs": [
        {
          "output_type": "execute_result",
          "data": {
            "text/plain": [
              "array([1, 2, 3, 4])"
            ]
          },
          "metadata": {
            "tags": []
          },
          "execution_count": 20
        }
      ]
    },
    {
      "cell_type": "code",
      "metadata": {
        "colab": {
          "base_uri": "https://localhost:8080/"
        },
        "id": "64tKKoehYRsf",
        "outputId": "a80f0648-979e-45ae-e374-10f0d2a83f2c"
      },
      "source": [
        "# operations with vectors:\n",
        "\n",
        "print(3 * np.array([1, 2, 3, 4]))\n",
        "\n",
        "print(2 + np.array([1, 2, 3, 4]))"
      ],
      "execution_count": null,
      "outputs": [
        {
          "output_type": "stream",
          "text": [
            "[ 3  6  9 12]\n",
            "[3 4 5 6]\n"
          ],
          "name": "stdout"
        }
      ]
    },
    {
      "cell_type": "code",
      "metadata": {
        "colab": {
          "base_uri": "https://localhost:8080/"
        },
        "id": "dvnhErBDY_jB",
        "outputId": "1b4fd1f3-53d4-466b-a0eb-a9ddad3484bb"
      },
      "source": [
        "# building a matrix:\n",
        "\n",
        "np.array([[1, 2, 3, 4], (5, 6, 7, 8)])"
      ],
      "execution_count": null,
      "outputs": [
        {
          "output_type": "execute_result",
          "data": {
            "text/plain": [
              "array([[1, 2, 3, 4],\n",
              "       [5, 6, 7, 8]])"
            ]
          },
          "metadata": {
            "tags": []
          },
          "execution_count": 22
        }
      ]
    },
    {
      "cell_type": "code",
      "metadata": {
        "colab": {
          "base_uri": "https://localhost:8080/"
        },
        "id": "WFAhJPQtZdJo",
        "outputId": "6cb79b53-a97d-413f-898b-368c73a02d74"
      },
      "source": [
        "# show a list of number:\n",
        "\n",
        "np.arange(10, 31, 2)"
      ],
      "execution_count": null,
      "outputs": [
        {
          "output_type": "execute_result",
          "data": {
            "text/plain": [
              "array([10, 12, 14, 16, 18, 20, 22, 24, 26, 28, 30])"
            ]
          },
          "metadata": {
            "tags": []
          },
          "execution_count": 25
        }
      ]
    },
    {
      "cell_type": "code",
      "metadata": {
        "colab": {
          "base_uri": "https://localhost:8080/"
        },
        "id": "1GcvYjWHOUat",
        "outputId": "e3948347-bf27-41ca-84b6-dd9d38fafffc"
      },
      "source": [
        "# Extract four random numbers from a numerical range:\n",
        "\n",
        "x = np.arange(1, 213)\n",
        "np.random.choice(x, size = 4, replace=True)"
      ],
      "execution_count": null,
      "outputs": [
        {
          "output_type": "execute_result",
          "data": {
            "text/plain": [
              "array([ 15, 168, 197,  80])"
            ]
          },
          "metadata": {
            "tags": []
          },
          "execution_count": 26
        }
      ]
    },
    {
      "cell_type": "code",
      "metadata": {
        "colab": {
          "base_uri": "https://localhost:8080/"
        },
        "id": "GYoMIbsrP0rw",
        "outputId": "7ffcb5c0-088f-4e83-edcf-dc0bc739b8f6"
      },
      "source": [
        "# check the boolean vector:\n",
        "\n",
        "np.all([True, False, True, True, True])"
      ],
      "execution_count": null,
      "outputs": [
        {
          "output_type": "execute_result",
          "data": {
            "text/plain": [
              "False"
            ]
          },
          "metadata": {
            "tags": []
          },
          "execution_count": 11
        }
      ]
    },
    {
      "cell_type": "code",
      "metadata": {
        "colab": {
          "base_uri": "https://localhost:8080/"
        },
        "id": "2KJioisYQRJl",
        "outputId": "e3501f84-f1f6-4026-bfc6-e44fa23266ed"
      },
      "source": [
        "# check the boolean vector:\n",
        "\n",
        "np.any([True, False, True, True, True])"
      ],
      "execution_count": null,
      "outputs": [
        {
          "output_type": "execute_result",
          "data": {
            "text/plain": [
              "True"
            ]
          },
          "metadata": {
            "tags": []
          },
          "execution_count": 12
        }
      ]
    },
    {
      "cell_type": "markdown",
      "metadata": {
        "id": "YezHtp2eQmrO"
      },
      "source": [
        "### Iterators:"
      ]
    },
    {
      "cell_type": "code",
      "metadata": {
        "colab": {
          "base_uri": "https://localhost:8080/"
        },
        "id": "Dloc4k-rQun3",
        "outputId": "f74a4912-af3a-4792-a1de-d0b1a95cb4e7"
      },
      "source": [
        "# FOR\n",
        "\n",
        "for i in np.arange(1,10):\n",
        "  print(i ** 2)"
      ],
      "execution_count": null,
      "outputs": [
        {
          "output_type": "stream",
          "text": [
            "1\n",
            "4\n",
            "9\n",
            "16\n",
            "25\n",
            "36\n",
            "49\n",
            "64\n",
            "81\n"
          ],
          "name": "stdout"
        }
      ]
    },
    {
      "cell_type": "code",
      "metadata": {
        "colab": {
          "base_uri": "https://localhost:8080/"
        },
        "id": "vQqtpaDyTjqN",
        "outputId": "47a1f551-98de-42dc-cecc-9d647c5c8526"
      },
      "source": [
        "# WHILE\n",
        "\n",
        "c = 0\n",
        "\n",
        "while True:\n",
        "  c = c + 1\n",
        "  print(c * 2)\n",
        "  if c == 10:\n",
        "    break"
      ],
      "execution_count": null,
      "outputs": [
        {
          "output_type": "stream",
          "text": [
            "2\n",
            "4\n",
            "6\n",
            "8\n",
            "10\n",
            "12\n",
            "14\n",
            "16\n",
            "18\n",
            "20\n"
          ],
          "name": "stdout"
        }
      ]
    },
    {
      "cell_type": "code",
      "metadata": {
        "colab": {
          "base_uri": "https://localhost:8080/"
        },
        "id": "IF-kvEm0UVAu",
        "outputId": "233def6c-5da9-448c-a38b-e188cc0ec4f2"
      },
      "source": [
        "# WHILE - other example:\n",
        "\n",
        "c = 0\n",
        "\n",
        "while c <= 10:\n",
        "  c = c + 1\n",
        "  print(c * 2)\n"
      ],
      "execution_count": null,
      "outputs": [
        {
          "output_type": "stream",
          "text": [
            "2\n",
            "4\n",
            "6\n",
            "8\n",
            "10\n",
            "12\n",
            "14\n",
            "16\n",
            "18\n",
            "20\n",
            "22\n"
          ],
          "name": "stdout"
        }
      ]
    },
    {
      "cell_type": "markdown",
      "metadata": {
        "id": "hhyaNVu_UtM1"
      },
      "source": [
        "## Project: Sticker Album One Piece 2021\n",
        "\n",
        "*   Total of stickers: 212\n",
        "*   Price of the sticker album: US\\$ 10,00\n",
        "*   Pack with four (4) stickers: US\\$ 4,00\n",
        "\n",
        "\n",
        "\n"
      ]
    },
    {
      "cell_type": "markdown",
      "metadata": {
        "id": "V3mvo9MyZOeX"
      },
      "source": [
        "### Supositions:\n",
        "\n",
        "\n",
        "\n",
        "*   All stickers have the same probability of being drafted.\n",
        "*   Each pack is bought by turn until the sticker album is completed.\n",
        "\n"
      ]
    },
    {
      "cell_type": "markdown",
      "metadata": {
        "id": "wkCMB098aIpS"
      },
      "source": [
        "### Algorithm:\n",
        "\n",
        "1.   Buy a sticker pack with four stickers (in each package, stickers can be repeated).\n",
        "2.   Put the stickers on the album and check if it is completed.\n",
        "3. if the album is incompleted, buy another sticker pack, otherwise, finish it."
      ]
    },
    {
      "cell_type": "markdown",
      "metadata": {
        "id": "xZIeN54Qeerx"
      },
      "source": [
        "### Questions:\n",
        "\n",
        "1. What is the average cost to complete the sticker album? \n",
        "2. How many sticker packs are requested, on average, to complete de sticker album?\n",
        "3. What is the relative frequency of costs to complete the sticker album?\n",
        "4. What is the probability to spend less than US\\$1500,00 to complete the sticker album?\n",
        "5. What is the probability to spend more than the average cost to complete the sticker album?\n",
        "6. What is the Confidence Interval of 95\\% for the cost to complete the sticker album?\n",
        "7. What is the average cost if you are completing the sticker album with a friend?\n",
        "8. what is the average cost if you are completing the sticker album with two more friends?\n",
        "\n",
        "\n",
        "\n"
      ]
    },
    {
      "cell_type": "code",
      "metadata": {
        "id": "CaaPUkrBKxWI"
      },
      "source": [
        "# number of stickers to complete the album:\n",
        "n_album = 7\n",
        "\n",
        "# price of the sticker pack:\n",
        "price_pack = 4\n",
        "\n",
        "# number of stickers per pack:\n",
        "sticker_per_pack = 4\n",
        "\n",
        "# price of the sticker album:\n",
        "price_album = 10"
      ],
      "execution_count": null,
      "outputs": []
    },
    {
      "cell_type": "code",
      "metadata": {
        "colab": {
          "base_uri": "https://localhost:8080/"
        },
        "id": "pRWJFabDL90o",
        "outputId": "8df4e788-ccdb-4cb5-e73a-03ccffd9fab3"
      },
      "source": [
        "# Visualize the album without stickers:\n",
        "album = np.zeros(n_album)\n",
        "album"
      ],
      "execution_count": null,
      "outputs": [
        {
          "output_type": "execute_result",
          "data": {
            "text/plain": [
              "array([0., 0., 0., 0., 0., 0., 0.])"
            ]
          },
          "metadata": {
            "tags": []
          },
          "execution_count": 29
        }
      ]
    },
    {
      "cell_type": "code",
      "metadata": {
        "colab": {
          "base_uri": "https://localhost:8080/"
        },
        "id": "-vqwDzJCMmrP",
        "outputId": "8b5af41e-abb5-49b5-a3af-b94bdd169251"
      },
      "source": [
        "# buy a sticker pack:\n",
        "\n",
        "pack = np.random.choice(np.arange(0, n_album), size = 4)\n",
        "pack"
      ],
      "execution_count": null,
      "outputs": [
        {
          "output_type": "execute_result",
          "data": {
            "text/plain": [
              "array([2, 4, 2, 1])"
            ]
          },
          "metadata": {
            "tags": []
          },
          "execution_count": 39
        }
      ]
    },
    {
      "cell_type": "code",
      "metadata": {
        "colab": {
          "base_uri": "https://localhost:8080/"
        },
        "id": "S2NOGiDAVe6e",
        "outputId": "39e0a6f6-11da-4e07-db0f-0d318fa80025"
      },
      "source": [
        "# put the stickers on the album:\n",
        "\n",
        "album[pack[0]] += 1\n",
        "album[pack[1]] += 1\n",
        "album[pack[2]] += 1\n",
        "album[pack[3]] += 1\n",
        "\n",
        "album\n",
        "\n"
      ],
      "execution_count": null,
      "outputs": [
        {
          "output_type": "execute_result",
          "data": {
            "text/plain": [
              "array([1., 2., 4., 2., 1., 3., 3.])"
            ]
          },
          "metadata": {
            "tags": []
          },
          "execution_count": 40
        }
      ]
    },
    {
      "cell_type": "code",
      "metadata": {
        "colab": {
          "base_uri": "https://localhost:8080/"
        },
        "id": "7LhmRM5kZoLC",
        "outputId": "d6777dc1-43c4-48a5-ad5c-5aa0ccad4a71"
      },
      "source": [
        "# The sticker album is completed?\n",
        "\n",
        "np.all(album >= 1)"
      ],
      "execution_count": null,
      "outputs": [
        {
          "output_type": "execute_result",
          "data": {
            "text/plain": [
              "True"
            ]
          },
          "metadata": {
            "tags": []
          },
          "execution_count": 41
        }
      ]
    },
    {
      "cell_type": "code",
      "metadata": {
        "colab": {
          "base_uri": "https://localhost:8080/"
        },
        "id": "LYcrlkBCj2Xf",
        "outputId": "56501daf-906a-4d00-b1c3-fac1161e904e"
      },
      "source": [
        "# The Algorithm:\n",
        "\n",
        "def SimulateAlbum(n_friends):\n",
        "\n",
        "  n_album = 212\n",
        "  count_packs = 0\n",
        "\n",
        "  album = np.zeros(n_album)\n",
        "\n",
        "  while True:\n",
        "\n",
        "    pack = np.random.choice(np.arange(0, n_album), size = 4)\n",
        "    count_packs += 1\n",
        "\n",
        "    for i in [0,1,2,3]:\n",
        "      album[pack[i]] += 1\n",
        "    if np.all(album >= n_friends):\n",
        "      break\n",
        "\n",
        "  cost = (count_packs * price_pack) + price_album\n",
        "  return cost/n_friends\n",
        "\n",
        "SimulateAlbum(1)\n"
      ],
      "execution_count": null,
      "outputs": [
        {
          "output_type": "execute_result",
          "data": {
            "text/plain": [
              "1794.0"
            ]
          },
          "metadata": {
            "tags": []
          },
          "execution_count": 78
        }
      ]
    },
    {
      "cell_type": "code",
      "metadata": {
        "colab": {
          "base_uri": "https://localhost:8080/"
        },
        "id": "LdgMot8uLrly",
        "outputId": "339e70e8-2ea4-4559-840c-e7add71cf9ef"
      },
      "source": [
        "# Question 1:\n",
        "\n",
        "## Simulations:\n",
        "\n",
        "S = 1000\n",
        "results = []\n",
        "\n",
        "for i in range(S):\n",
        "  p = SimulateAlbum(1)\n",
        "  results.append(p)\n",
        "  if i % 100 == 0:\n",
        "    print(i)\n",
        "\n",
        "cost_mean = np.array(results).mean()\n",
        "cost_mean"
      ],
      "execution_count": null,
      "outputs": [
        {
          "output_type": "stream",
          "text": [
            "0\n",
            "100\n",
            "200\n",
            "300\n",
            "400\n",
            "500\n",
            "600\n",
            "700\n",
            "800\n",
            "900\n"
          ],
          "name": "stdout"
        },
        {
          "output_type": "execute_result",
          "data": {
            "text/plain": [
              "1279.284"
            ]
          },
          "metadata": {
            "tags": []
          },
          "execution_count": 68
        }
      ]
    },
    {
      "cell_type": "code",
      "metadata": {
        "colab": {
          "base_uri": "https://localhost:8080/"
        },
        "id": "MrPtIrFzQgwt",
        "outputId": "8784ebc7-9192-4c78-e6c2-4d0518951c97"
      },
      "source": [
        "# Question 2:\n",
        "\n",
        "packs_mean = (cost_mean - price_album)/price_pack\n",
        "packs_mean"
      ],
      "execution_count": null,
      "outputs": [
        {
          "output_type": "execute_result",
          "data": {
            "text/plain": [
              "317.321"
            ]
          },
          "metadata": {
            "tags": []
          },
          "execution_count": 69
        }
      ]
    },
    {
      "cell_type": "code",
      "metadata": {
        "colab": {
          "base_uri": "https://localhost:8080/",
          "height": 281
        },
        "id": "77Xw0MjFRcdF",
        "outputId": "5d6375e6-29e6-4a9f-847f-d08af5046ceb"
      },
      "source": [
        "# Question 3:\n",
        "\n",
        "import matplotlib.pyplot as plt\n",
        "\n",
        "plt.hist(results, bins = 20, density = True, color = 'royalblue', \n",
        "         edgecolor = 'black')\n",
        "plt.title('Relative Frequency of Costs')\n",
        "plt.show()"
      ],
      "execution_count": null,
      "outputs": [
        {
          "output_type": "display_data",
          "data": {
            "image/png": "[encoded data removed]",
            "text/plain": [
              "<Figure size 432x288 with 1 Axes>"
            ]
          },
          "metadata": {
            "tags": [],
            "needs_background": "light"
          }
        }
      ]
    },
    {
      "cell_type": "code",
      "metadata": {
        "colab": {
          "base_uri": "https://localhost:8080/"
        },
        "id": "OCYCt8PoToN6",
        "outputId": "f2711344-a556-43e5-8af4-93a6871243cf"
      },
      "source": [
        "# Question 4 and 5:\n",
        "\n",
        "prob_1500 = sum(np.array(results) < 1500)/S\n",
        "prob_mean = sum(np.array(results) > cost_mean)/S\n",
        "\n",
        "print('The probability to spend less than US$1500,00 is {:.2f}%.'.format(prob_1500 * 100))\n",
        "print('The probability to spend more than the average cost is {:.2f}%.'.format(prob_mean *100))"
      ],
      "execution_count": null,
      "outputs": [
        {
          "output_type": "stream",
          "text": [
            "The probability to spend less than US$1500,00 is 81.60%.\n",
            "The probability to spend more than the average cost is 43.90%.\n"
          ],
          "name": "stdout"
        }
      ]
    },
    {
      "cell_type": "code",
      "metadata": {
        "colab": {
          "base_uri": "https://localhost:8080/"
        },
        "id": "eowCS3TNXVIA",
        "outputId": "399ea81a-4655-4083-ba58-dbaef7eb19d5"
      },
      "source": [
        "# Question 6:\n",
        "\n",
        "qts = np.quantile(results, [0.025, 0.975])\n",
        "\n",
        "qts\n"
      ],
      "execution_count": null,
      "outputs": [
        {
          "output_type": "execute_result",
          "data": {
            "text/plain": [
              "array([ 866. , 1974.6])"
            ]
          },
          "metadata": {
            "tags": []
          },
          "execution_count": 74
        }
      ]
    },
    {
      "cell_type": "code",
      "metadata": {
        "colab": {
          "base_uri": "https://localhost:8080/"
        },
        "id": "wkbv6kx6bZGj",
        "outputId": "d9aa6a0b-fd2f-4316-86f7-1bf05f14d2ea"
      },
      "source": [
        "# Question 7 and 8:\n",
        "\n",
        "# 1 friend\n",
        "\n",
        "S = 1000\n",
        "results = []\n",
        "\n",
        "for i in range(S):\n",
        "  p = SimulateAlbum(2)\n",
        "  results.append(p)\n",
        "\n",
        "print(np.array(results).mean())\n",
        "\n",
        "# 2 friends\n",
        "\n",
        "S = 1000\n",
        "results = []\n",
        "\n",
        "for i in range(S):\n",
        "  p = SimulateAlbum(3)\n",
        "  results.append(p)\n",
        "\n",
        "\n",
        "print(np.array(results).mean())\n"
      ],
      "execution_count": null,
      "outputs": [
        {
          "output_type": "stream",
          "text": [
            "868.158\n",
            "714.244\n"
          ],
          "name": "stdout"
        }
      ]
    },
    {
      "cell_type": "code",
      "metadata": {
        "id": "WxZaN6Hh9Y9h"
      },
      "source": [
        "def Simulation(n_albuns, simulations)\n",
        "    values = []\n",
        "    for i in range(simulations)\n",
        "      values.append(SimulateAlbum(n_albuns))"
      ],
      "execution_count": null,
      "outputs": []
    },
    {
      "cell_type": "markdown",
      "metadata": {
        "id": "ixXDkVfE-Xy-"
      },
      "source": [
        ""
      ]
    }
  ]
}